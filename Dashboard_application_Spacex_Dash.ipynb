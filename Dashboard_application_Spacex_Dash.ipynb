{
 "cells": [
  {
   "cell_type": "code",
   "execution_count": 1,
   "id": "9493b271",
   "metadata": {},
   "outputs": [],
   "source": [
    "import pandas as pd; import numpy as np; import plotly.express as px; import wget"
   ]
  },
  {
   "cell_type": "code",
   "execution_count": 2,
   "id": "53523967",
   "metadata": {},
   "outputs": [
    {
     "name": "stdout",
     "output_type": "stream",
     "text": [
      "\r",
      "  0% [                                                            ]    0 / 2476\r",
      "100% [............................................................] 2476 / 2476"
     ]
    }
   ],
   "source": [
    "url = 'https://cf-courses-data.s3.us.cloud-object-storage.appdomain.cloud/IBM-DS0321EN-SkillsNetwork/datasets/spacex_launch_dash.csv'\n",
    "spacex_data = wget.download(url)\n",
    "data = pd.read_csv(spacex_data)"
   ]
  },
  {
   "cell_type": "code",
   "execution_count": 3,
   "id": "de76c6ef",
   "metadata": {},
   "outputs": [],
   "source": [
    "data.drop('Unnamed: 0',axis=1,inplace=True)"
   ]
  },
  {
   "cell_type": "code",
   "execution_count": 4,
   "id": "d3e10b4d",
   "metadata": {},
   "outputs": [
    {
     "name": "stdout",
     "output_type": "stream",
     "text": [
      "<class 'pandas.core.frame.DataFrame'>\n",
      "RangeIndex: 56 entries, 0 to 55\n",
      "Data columns (total 6 columns):\n",
      " #   Column                    Non-Null Count  Dtype  \n",
      "---  ------                    --------------  -----  \n",
      " 0   Flight Number             56 non-null     int64  \n",
      " 1   Launch Site               56 non-null     object \n",
      " 2   class                     56 non-null     int64  \n",
      " 3   Payload Mass (kg)         56 non-null     float64\n",
      " 4   Booster Version           56 non-null     object \n",
      " 5   Booster Version Category  56 non-null     object \n",
      "dtypes: float64(1), int64(2), object(3)\n",
      "memory usage: 2.8+ KB\n"
     ]
    }
   ],
   "source": [
    "data.info()"
   ]
  },
  {
   "cell_type": "code",
   "execution_count": 5,
   "id": "2e3d94c9",
   "metadata": {},
   "outputs": [
    {
     "data": {
      "text/plain": [
       "Index(['Flight Number', 'Launch Site', 'class', 'Payload Mass (kg)',\n",
       "       'Booster Version', 'Booster Version Category'],\n",
       "      dtype='object')"
      ]
     },
     "execution_count": 5,
     "metadata": {},
     "output_type": "execute_result"
    }
   ],
   "source": [
    "data.columns"
   ]
  },
  {
   "cell_type": "code",
   "execution_count": 6,
   "id": "cfca63f2",
   "metadata": {},
   "outputs": [
    {
     "data": {
      "text/plain": [
       "Flight Number               0\n",
       "Launch Site                 0\n",
       "class                       0\n",
       "Payload Mass (kg)           0\n",
       "Booster Version             0\n",
       "Booster Version Category    0\n",
       "dtype: int64"
      ]
     },
     "execution_count": 6,
     "metadata": {},
     "output_type": "execute_result"
    }
   ],
   "source": [
    "data.isnull().sum()"
   ]
  },
  {
   "cell_type": "code",
   "execution_count": 7,
   "id": "89445625",
   "metadata": {},
   "outputs": [
    {
     "data": {
      "text/plain": [
       "array(['CCAFS LC-40', 'VAFB SLC-4E', 'KSC LC-39A', 'CCAFS SLC-40'],\n",
       "      dtype=object)"
      ]
     },
     "execution_count": 7,
     "metadata": {},
     "output_type": "execute_result"
    }
   ],
   "source": [
    "data['Launch Site'].unique()"
   ]
  },
  {
   "cell_type": "code",
   "execution_count": 8,
   "id": "9f59c63e",
   "metadata": {},
   "outputs": [
    {
     "data": {
      "text/html": [
       "<div>\n",
       "<style scoped>\n",
       "    .dataframe tbody tr th:only-of-type {\n",
       "        vertical-align: middle;\n",
       "    }\n",
       "\n",
       "    .dataframe tbody tr th {\n",
       "        vertical-align: top;\n",
       "    }\n",
       "\n",
       "    .dataframe thead th {\n",
       "        text-align: right;\n",
       "    }\n",
       "</style>\n",
       "<table border=\"1\" class=\"dataframe\">\n",
       "  <thead>\n",
       "    <tr style=\"text-align: right;\">\n",
       "      <th></th>\n",
       "      <th>Flight Number</th>\n",
       "      <th>Launch Site</th>\n",
       "      <th>class</th>\n",
       "      <th>Payload Mass (kg)</th>\n",
       "      <th>Booster Version</th>\n",
       "      <th>Booster Version Category</th>\n",
       "    </tr>\n",
       "  </thead>\n",
       "  <tbody>\n",
       "    <tr>\n",
       "      <th>0</th>\n",
       "      <td>1</td>\n",
       "      <td>CCAFS LC-40</td>\n",
       "      <td>0</td>\n",
       "      <td>0.0</td>\n",
       "      <td>F9 v1.0  B0003</td>\n",
       "      <td>v1.0</td>\n",
       "    </tr>\n",
       "    <tr>\n",
       "      <th>1</th>\n",
       "      <td>2</td>\n",
       "      <td>CCAFS LC-40</td>\n",
       "      <td>0</td>\n",
       "      <td>0.0</td>\n",
       "      <td>F9 v1.0  B0004</td>\n",
       "      <td>v1.0</td>\n",
       "    </tr>\n",
       "  </tbody>\n",
       "</table>\n",
       "</div>"
      ],
      "text/plain": [
       "   Flight Number  Launch Site  class  Payload Mass (kg) Booster Version  \\\n",
       "0              1  CCAFS LC-40      0                0.0  F9 v1.0  B0003   \n",
       "1              2  CCAFS LC-40      0                0.0  F9 v1.0  B0004   \n",
       "\n",
       "  Booster Version Category  \n",
       "0                     v1.0  \n",
       "1                     v1.0  "
      ]
     },
     "execution_count": 8,
     "metadata": {},
     "output_type": "execute_result"
    }
   ],
   "source": [
    "data.head(2)"
   ]
  },
  {
   "cell_type": "code",
   "execution_count": 9,
   "id": "463f4fb9",
   "metadata": {},
   "outputs": [
    {
     "data": {
      "text/plain": [
       "9600.0"
      ]
     },
     "execution_count": 9,
     "metadata": {},
     "output_type": "execute_result"
    }
   ],
   "source": [
    "data['Payload Mass (kg)'].max()"
   ]
  },
  {
   "cell_type": "code",
   "execution_count": 10,
   "id": "1ff32922",
   "metadata": {},
   "outputs": [],
   "source": [
    "from jupyter_dash import JupyterDash\n",
    "from dash import dcc,html,Input, Output,State\n"
   ]
  },
  {
   "cell_type": "code",
   "execution_count": 11,
   "id": "7ce03f6d",
   "metadata": {},
   "outputs": [
    {
     "name": "stdout",
     "output_type": "stream",
     "text": [
      "Dash is running on http://127.0.0.1:8079/\n",
      "\n"
     ]
    },
    {
     "data": {
      "text/html": [
       "\n",
       "        <iframe\n",
       "            width=\"100%\"\n",
       "            height=\"650\"\n",
       "            src=\"http://127.0.0.1:8079/\"\n",
       "            frameborder=\"0\"\n",
       "            allowfullscreen\n",
       "            \n",
       "        ></iframe>\n",
       "        "
      ],
      "text/plain": [
       "<IPython.lib.display.IFrame at 0x7f9156dabaf0>"
      ]
     },
     "metadata": {},
     "output_type": "display_data"
    }
   ],
   "source": [
    "app = JupyterDash(__name__)\n",
    "app.layout = html.Div(children=[html.H1('Spacex Launch Records Dashboard',\n",
    "                                        style={'textAlign':'center','color':'#503D36','font-size':24}),\n",
    "                               html.Div([dcc.Dropdown(id='site',\n",
    "                                                      options=[{'label':'All Sites','value':'All'},\n",
    "                                                               {'label':'CCAFS LC-40','value':'CCAFS LC-40'},\n",
    "                                                               {'label':'KSC LC-39A','value':'KSC LC-39A'},\n",
    "                                                               {'label':'VAFB SLC-4E','value':'VAFB SLC-4E'},\n",
    "                                                               {'label':'CCAFS SLC-40','value':'CCAFS SLC-40'}],\n",
    "                                                      placeholder='Select a launch Site',\n",
    "                                                      searchable=True\n",
    "                                                     ),\n",
    "                                         \n",
    "                                        ]),\n",
    "                                html.Div([],id='pie_chart'),\n",
    "                                html.Div([html.H5('Payload Mass (Kg)')]),\n",
    "                                \n",
    "                                html.Div([dcc.RangeSlider(id='Payload_slider',\n",
    "                                                         min=0,\n",
    "                                                         max=10000,\n",
    "                                                         step=1000,\n",
    "                                                         value=[0,9600]),\n",
    "                                                          \n",
    "                                         ]),\n",
    "                                html.Div([],id='scatter_chart'),\n",
    "                                \n",
    "                               ])\n",
    "\n",
    "@app.callback([Output(component_id='pie_chart',component_property='children'),\n",
    "              Output(component_id='scatter_chart',component_property='children')],\n",
    "              [Input(component_id='site',component_property='value'),\n",
    "              Input(component_id='Payload_slider',component_property='value')],\n",
    "              [State('pie_chart','children'),State('scatter_chart','children')]\n",
    "              )\n",
    "def get_graph(enter_site,payload,c1,c2):\n",
    "    if enter_site =='All':\n",
    "        spacex_df =data\n",
    "        fig_all = px.pie(spacex_df,values='class',names='Launch Site',\n",
    "                         title='Total Success Launches for All Sites')\n",
    "        spacex_load =data[(data['Payload Mass (kg)'] >= payload[0]) & \n",
    "                          (data['Payload Mass (kg)'] <= payload[1])] \n",
    "        fig_scatter = px.scatter(spacex_load, x='Payload Mass (kg)',\n",
    "                                 y='class',color='Booster Version Category',\n",
    "                                title='Correlation between Payload and Success for all Sites')\n",
    "        return [dcc.Graph(figure=fig_all),dcc.Graph(figure=fig_scatter)]\n",
    "    else:\n",
    "        spacex_df = data[data['Launch Site']== enter_site]\n",
    "        fig = px.pie(spacex_df,values='class',names='Launch Site',\n",
    "                     title=\"Total Success Launches for {}\".format(enter_site))\n",
    "        spacex_load =data[(data['Payload Mass (kg)'] >= payload[0]) &\n",
    "                          (data['Payload Mass (kg)'] <= payload[1])] \n",
    "        fig_scatter = px.scatter(spacex_load,x='Payload Mass (kg)',\n",
    "                                 y='class',color='Booster Version Category',\n",
    "                                title=\"Correlation between Payload and Success for{}\".format(enter_site))\n",
    "        return [dcc.Graph(figure=fig),dcc.Graph(figure=fig_scatter)]\n",
    "if __name__ == '__main__':\n",
    "    app.run_server(port=8079,mode='inline',debug=True)\n",
    "    \n",
    "    \n"
   ]
  }
 ],
 "metadata": {
  "kernelspec": {
   "display_name": "Python 3 (ipykernel)",
   "language": "python",
   "name": "python3"
  },
  "language_info": {
   "codemirror_mode": {
    "name": "ipython",
    "version": 3
   },
   "file_extension": ".py",
   "mimetype": "text/x-python",
   "name": "python",
   "nbconvert_exporter": "python",
   "pygments_lexer": "ipython3",
   "version": "3.10.9"
  }
 },
 "nbformat": 4,
 "nbformat_minor": 5
}
