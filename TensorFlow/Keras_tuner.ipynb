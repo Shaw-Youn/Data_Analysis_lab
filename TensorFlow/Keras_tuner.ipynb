{
 "cells": [
  {
   "cell_type": "markdown",
   "id": "9a46d1e6",
   "metadata": {},
   "source": [
    "## Fine-Tuning Neural Network Hyperparameters\n",
    " Using Keras_Tuner library, which is a hyperparameter tuning library for Keras models.Here are general steps:\n",
    " 1. import keras_tuner as kt. ( or first install the library: pip install keras_tuner)\n",
    " 2. write a function that builds, compiles and returns Keras model. (The function must take a kt.Hyperparameters object as an argument, which it can use ot define hyperparameters(inters,floats,string,etc.)along with their range of possible values. \n",
    " 3. using kt.RandomSearch() or kt.Hyperband()tuner, passing build_model function to the constructor.\n",
    " 4. Call the tuner's search() method\n",
    " 5. tuner.get_best_models(num_models=n)(get the best model),get_best_hyperparameters(num_trials=d)( to get the best parameters)\n",
    " \n",
    " \n",
    " "
   ]
  },
  {
   "cell_type": "code",
   "execution_count": 1,
   "id": "3e1e703c",
   "metadata": {},
   "outputs": [
    {
     "name": "stdout",
     "output_type": "stream",
     "text": [
      "Trial 5 Complete [00h 00m 08s]\n",
      "val_out_a_mae: 0.2617969314257304\n",
      "\n",
      "Best val_out_a_mae So Far: 0.25833870967229206\n",
      "Total elapsed time: 00h 00m 40s\n",
      "INFO:tensorflow:Oracle triggered exit\n",
      "Epoch 1/10\n",
      "25/25 [==============================] - 2s 16ms/step - loss: 0.2681 - out_a_loss: 0.1530 - out_b_loss: 0.1151 - out_a_mae: 0.3176 - out_b_mae: 0.2777 - val_loss: 0.2143 - val_out_a_loss: 0.1031 - val_out_b_loss: 0.1112 - val_out_a_mae: 0.2675 - val_out_b_mae: 0.2813\n",
      "Epoch 2/10\n",
      "25/25 [==============================] - 0s 5ms/step - loss: 0.1843 - out_a_loss: 0.0893 - out_b_loss: 0.0950 - out_a_mae: 0.2476 - out_b_mae: 0.2557 - val_loss: 0.1912 - val_out_a_loss: 0.0958 - val_out_b_loss: 0.0955 - val_out_a_mae: 0.2582 - val_out_b_mae: 0.2606\n",
      "Epoch 3/10\n",
      "25/25 [==============================] - 0s 4ms/step - loss: 0.1715 - out_a_loss: 0.0825 - out_b_loss: 0.0890 - out_a_mae: 0.2418 - out_b_mae: 0.2505 - val_loss: 0.1922 - val_out_a_loss: 0.0928 - val_out_b_loss: 0.0994 - val_out_a_mae: 0.2606 - val_out_b_mae: 0.2676\n",
      "Epoch 4/10\n",
      "25/25 [==============================] - 0s 4ms/step - loss: 0.1651 - out_a_loss: 0.0841 - out_b_loss: 0.0810 - out_a_mae: 0.2407 - out_b_mae: 0.2384 - val_loss: 0.2057 - val_out_a_loss: 0.1030 - val_out_b_loss: 0.1027 - val_out_a_mae: 0.2679 - val_out_b_mae: 0.2731\n",
      "Epoch 5/10\n",
      "25/25 [==============================] - 0s 4ms/step - loss: 0.1626 - out_a_loss: 0.0810 - out_b_loss: 0.0816 - out_a_mae: 0.2397 - out_b_mae: 0.2443 - val_loss: 0.2070 - val_out_a_loss: 0.1054 - val_out_b_loss: 0.1016 - val_out_a_mae: 0.2690 - val_out_b_mae: 0.2707\n",
      "Epoch 6/10\n",
      "25/25 [==============================] - 0s 4ms/step - loss: 0.1562 - out_a_loss: 0.0767 - out_b_loss: 0.0795 - out_a_mae: 0.2314 - out_b_mae: 0.2381 - val_loss: 0.2048 - val_out_a_loss: 0.1012 - val_out_b_loss: 0.1036 - val_out_a_mae: 0.2674 - val_out_b_mae: 0.2714\n",
      "Epoch 7/10\n",
      "25/25 [==============================] - 0s 4ms/step - loss: 0.1539 - out_a_loss: 0.0796 - out_b_loss: 0.0743 - out_a_mae: 0.2356 - out_b_mae: 0.2309 - val_loss: 0.2021 - val_out_a_loss: 0.0988 - val_out_b_loss: 0.1033 - val_out_a_mae: 0.2643 - val_out_b_mae: 0.2666\n",
      "Epoch 8/10\n",
      "25/25 [==============================] - 0s 4ms/step - loss: 0.1579 - out_a_loss: 0.0792 - out_b_loss: 0.0787 - out_a_mae: 0.2320 - out_b_mae: 0.2372 - val_loss: 0.2175 - val_out_a_loss: 0.1100 - val_out_b_loss: 0.1076 - val_out_a_mae: 0.2764 - val_out_b_mae: 0.2778\n",
      "Epoch 9/10\n",
      "25/25 [==============================] - 0s 3ms/step - loss: 0.1481 - out_a_loss: 0.0744 - out_b_loss: 0.0737 - out_a_mae: 0.2281 - out_b_mae: 0.2291 - val_loss: 0.2011 - val_out_a_loss: 0.1012 - val_out_b_loss: 0.0998 - val_out_a_mae: 0.2675 - val_out_b_mae: 0.2679\n",
      "Epoch 10/10\n",
      "25/25 [==============================] - 0s 4ms/step - loss: 0.1451 - out_a_loss: 0.0719 - out_b_loss: 0.0732 - out_a_mae: 0.2240 - out_b_mae: 0.2276 - val_loss: 0.2488 - val_out_a_loss: 0.1305 - val_out_b_loss: 0.1183 - val_out_a_mae: 0.2954 - val_out_b_mae: 0.2851\n"
     ]
    }
   ],
   "source": [
    "import numpy as np\n",
    "import tensorflow as tf\n",
    "from tensorflow import keras\n",
    "from keras_tuner import RandomSearch\n",
    "import keras_tuner as kt\n",
    "\n",
    "# Sample data\n",
    "input1 = np.random.rand(1000, 8)\n",
    "input2 = np.random.rand(1000, 8)\n",
    "output1 = np.random.rand(1000, 1)\n",
    "output2 = np.random.rand(1000, 1)\n",
    "\n",
    "# Model definition with Normalization layers\n",
    "def build_model(hp):\n",
    "    input_a = keras.layers.Input(shape=(8,), name='input_a')\n",
    "    normalized_a = keras.layers.Normalization()(input_a)\n",
    "\n",
    "    input_b = keras.layers.Input(shape=(8,), name='input_b')\n",
    "    normalized_b = keras.layers.Normalization()(input_b)\n",
    "\n",
    "    x1 = keras.layers.Dense(units=hp.Int('dense_1_units', min_value=32, max_value=128, step=32), activation='relu')(normalized_a)\n",
    "    x2 = keras.layers.Dense(units=hp.Int('dense_2_units', min_value=32, max_value=128, step=32), activation='relu')(normalized_b)\n",
    "    \n",
    "    merged = keras.layers.concatenate([x1, x2])\n",
    "    out_a = keras.layers.Dense(1, name='out_a')(merged)\n",
    "    out_b = keras.layers.Dense(1, name='out_b')(merged)\n",
    "\n",
    "    model = keras.models.Model(inputs=[input_a, input_b], outputs=[out_a, out_b])\n",
    "    model.compile(optimizer=keras.optimizers.Adam(hp.Choice('learning_rate', [1e-2, 1e-3, 1e-4])),\n",
    "                  loss={'out_a': 'mse', 'out_b': 'mse'},\n",
    "                  metrics={'out_a': 'mae', 'out_b': 'mae'})\n",
    "    return model\n",
    "\n",
    "# Keras Tuner setup\n",
    "tuner = RandomSearch(\n",
    "    build_model,\n",
    "    objective=kt.Objective(\"val_out_a_mae\", direction=\"min\"),\n",
    "    overwrite=True,\n",
    "    max_trials=5,\n",
    "    executions_per_trial=3,\n",
    "    directory='output_dir',\n",
    "    project_name='keras_tuner_example'\n",
    ")\n",
    "\n",
    "# Search for the best hyperparameters\n",
    "tuner.search([input1, input2], [output1, output2], epochs=5, validation_split=0.2)\n",
    "\n",
    "# Retrieve the best model\n",
    "best_model = tuner.get_best_models(num_models=1)[0]\n",
    "\n",
    "# Adapt the normalization layers in the best model\n",
    "normalization_layer_a = best_model.get_layer(name='normalization')  # Note: Keras automatically appends an index to the layer name\n",
    "normalization_layer_a.adapt(input1)\n",
    "\n",
    "normalization_layer_b = best_model.get_layer(name='normalization_1')\n",
    "normalization_layer_b.adapt(input2)\n",
    "\n",
    "# Fit the best model to the data\n",
    "history = best_model.fit([input1, input2], [output1, output2], epochs=10, validation_split=0.2)\n"
   ]
  },
  {
   "cell_type": "code",
   "execution_count": 2,
   "id": "425e31da",
   "metadata": {},
   "outputs": [],
   "source": [
    "from keras.datasets import fashion_mnist"
   ]
  },
  {
   "cell_type": "code",
   "execution_count": 3,
   "id": "5f7fd536",
   "metadata": {},
   "outputs": [],
   "source": [
    "(x_train_full,y_train_full),(x_test,y_test) = fashion_mnist.load_data()"
   ]
  },
  {
   "cell_type": "code",
   "execution_count": 4,
   "id": "b93da6d2",
   "metadata": {},
   "outputs": [],
   "source": [
    "x_train,x_val = x_train_full[5000:]/255,x_train_full[:5000]/255"
   ]
  },
  {
   "cell_type": "code",
   "execution_count": 5,
   "id": "08a7ad80",
   "metadata": {},
   "outputs": [],
   "source": [
    "y_train,y_val = y_train_full[5000:],y_train_full[:5000]"
   ]
  },
  {
   "cell_type": "code",
   "execution_count": 6,
   "id": "d91f2c88",
   "metadata": {},
   "outputs": [],
   "source": [
    "def build_mod(hp):\n",
    "    input_ = keras.layers.Input(shape=[28,28])\n",
    "    flatten= keras.layers.Flatten()(input_)\n",
    "    hidden1=keras.layers.Dense(units=hp.Int('dense_1',min_value=30,max_value=300,step=30),activation='relu')(flatten)\n",
    "    hidden2=keras.layers.Dense(units=hp.Int('dense_2',min_value=30,max_value=300,step=30),activation='relu')(hidden1)\n",
    "    output = keras.layers.Dense(10,activation='softmax')(hidden2)\n",
    "    optimizer = hp.Choice('optimizer',values=['sgd','adam'])\n",
    "  \n",
    "    if optimizer =='sgd':\n",
    "        optimizer = keras.optimizers.SGD(hp.Choice('learning_rate', values=[1e-2, 1e-3, 1e-4]))\n",
    "    else:\n",
    "        optimizer=keras.optimizers.Adam(hp.Choice('learning_rate', values=[1e-2, 1e-3, 1e-4]))\n",
    "    model = keras.Model(inputs=[input_],outputs=[output])\n",
    "    model.compile(loss='sparse_categorical_crossentropy',\n",
    "                 optimizer = optimizer,\n",
    "                 metrics=['accuracy'])\n",
    "    return model\n",
    "    \n",
    "    \n",
    "    "
   ]
  },
  {
   "cell_type": "code",
   "execution_count": 7,
   "id": "1afcb8ce",
   "metadata": {},
   "outputs": [],
   "source": [
    "tuner = kt.RandomSearch(build_mod,\n",
    "                     objective='val_accuracy',\n",
    "                     overwrite=True,\n",
    "                     max_trials=5,\n",
    "                     executions_per_trial=3,\n",
    "                     directory='output_diry',\n",
    "                     project_name='keras_tuner_example_1',\n",
    "                    )"
   ]
  },
  {
   "cell_type": "code",
   "execution_count": 8,
   "id": "5d9521ac",
   "metadata": {},
   "outputs": [
    {
     "name": "stdout",
     "output_type": "stream",
     "text": [
      "Trial 5 Complete [00h 02m 15s]\n",
      "val_accuracy: 0.8733999927838644\n",
      "\n",
      "Best val_accuracy So Far: 0.8891333142916361\n",
      "Total elapsed time: 00h 13m 45s\n",
      "INFO:tensorflow:Oracle triggered exit\n"
     ]
    }
   ],
   "source": [
    "tuner.search(x_train,y_train,epochs=10,validation_data=(x_val,y_val))"
   ]
  },
  {
   "cell_type": "code",
   "execution_count": 9,
   "id": "81ae5500",
   "metadata": {},
   "outputs": [],
   "source": [
    "top3_params = tuner.get_best_hyperparameters(num_trials=3)\n"
   ]
  },
  {
   "cell_type": "code",
   "execution_count": 10,
   "id": "00ae6543",
   "metadata": {},
   "outputs": [
    {
     "data": {
      "text/plain": [
       "{'dense_1': 300, 'dense_2': 90, 'optimizer': 'adam', 'learning_rate': 0.0001}"
      ]
     },
     "execution_count": 10,
     "metadata": {},
     "output_type": "execute_result"
    }
   ],
   "source": [
    "top3_params[0].values"
   ]
  },
  {
   "cell_type": "code",
   "execution_count": 11,
   "id": "65aadaf2",
   "metadata": {},
   "outputs": [],
   "source": [
    "top3_model = tuner.get_best_models(num_models=3)\n",
    "best_model = top3_model[0]\n"
   ]
  },
  {
   "cell_type": "code",
   "execution_count": 12,
   "id": "c8adf89e",
   "metadata": {},
   "outputs": [
    {
     "name": "stdout",
     "output_type": "stream",
     "text": [
      "Trial 3 summary\n",
      "Hyperparameters:\n",
      "dense_1: 300\n",
      "dense_2: 90\n",
      "optimizer: adam\n",
      "learning_rate: 0.0001\n",
      "Score: 0.8891333142916361\n"
     ]
    }
   ],
   "source": [
    "best_trial = tuner.oracle.get_best_trials(num_trials=1)[0]\n",
    "best_trial.summary()"
   ]
  },
  {
   "cell_type": "code",
   "execution_count": 13,
   "id": "5650475e",
   "metadata": {},
   "outputs": [
    {
     "name": "stdout",
     "output_type": "stream",
     "text": [
      "Epoch 1/10\n",
      "1719/1719 [==============================] - 8s 4ms/step - loss: 0.2642 - accuracy: 0.9039 - val_loss: 0.3057 - val_accuracy: 0.8926\n",
      "Epoch 2/10\n",
      "1719/1719 [==============================] - 7s 4ms/step - loss: 0.2539 - accuracy: 0.9084 - val_loss: 0.3085 - val_accuracy: 0.8866\n",
      "Epoch 3/10\n",
      "1719/1719 [==============================] - 6s 4ms/step - loss: 0.2477 - accuracy: 0.9109 - val_loss: 0.2979 - val_accuracy: 0.8964\n",
      "Epoch 4/10\n",
      "1719/1719 [==============================] - 5s 3ms/step - loss: 0.2393 - accuracy: 0.9138 - val_loss: 0.3149 - val_accuracy: 0.8896\n",
      "Epoch 5/10\n",
      "1719/1719 [==============================] - 6s 4ms/step - loss: 0.2330 - accuracy: 0.9153 - val_loss: 0.2881 - val_accuracy: 0.8982\n",
      "Epoch 6/10\n",
      "1719/1719 [==============================] - 6s 4ms/step - loss: 0.2249 - accuracy: 0.9189 - val_loss: 0.2905 - val_accuracy: 0.8928\n",
      "Epoch 7/10\n",
      "1719/1719 [==============================] - 8s 5ms/step - loss: 0.2199 - accuracy: 0.9198 - val_loss: 0.2946 - val_accuracy: 0.8902\n",
      "Epoch 8/10\n",
      "1719/1719 [==============================] - 6s 3ms/step - loss: 0.2141 - accuracy: 0.9230 - val_loss: 0.2864 - val_accuracy: 0.8990\n",
      "Epoch 9/10\n",
      "1719/1719 [==============================] - 6s 3ms/step - loss: 0.2080 - accuracy: 0.9252 - val_loss: 0.2818 - val_accuracy: 0.8996\n",
      "Epoch 10/10\n",
      "1719/1719 [==============================] - 6s 4ms/step - loss: 0.2039 - accuracy: 0.9257 - val_loss: 0.2809 - val_accuracy: 0.9002\n"
     ]
    }
   ],
   "source": [
    "h = best_model.fit(x_train,y_train,epochs=10,validation_data=(x_val,y_val))"
   ]
  },
  {
   "cell_type": "code",
   "execution_count": 14,
   "id": "47d18da7",
   "metadata": {},
   "outputs": [],
   "source": [
    "import pandas as pd\n",
    "dd = pd.DataFrame(h.history)"
   ]
  },
  {
   "cell_type": "code",
   "execution_count": 15,
   "id": "94db7dcd",
   "metadata": {},
   "outputs": [
    {
     "data": {
      "text/html": [
       "<div>\n",
       "<style scoped>\n",
       "    .dataframe tbody tr th:only-of-type {\n",
       "        vertical-align: middle;\n",
       "    }\n",
       "\n",
       "    .dataframe tbody tr th {\n",
       "        vertical-align: top;\n",
       "    }\n",
       "\n",
       "    .dataframe thead th {\n",
       "        text-align: right;\n",
       "    }\n",
       "</style>\n",
       "<table border=\"1\" class=\"dataframe\">\n",
       "  <thead>\n",
       "    <tr style=\"text-align: right;\">\n",
       "      <th></th>\n",
       "      <th>loss</th>\n",
       "      <th>accuracy</th>\n",
       "      <th>val_loss</th>\n",
       "      <th>val_accuracy</th>\n",
       "    </tr>\n",
       "  </thead>\n",
       "  <tbody>\n",
       "    <tr>\n",
       "      <th>0</th>\n",
       "      <td>0.264156</td>\n",
       "      <td>0.903927</td>\n",
       "      <td>0.305677</td>\n",
       "      <td>0.8926</td>\n",
       "    </tr>\n",
       "    <tr>\n",
       "      <th>1</th>\n",
       "      <td>0.253927</td>\n",
       "      <td>0.908364</td>\n",
       "      <td>0.308514</td>\n",
       "      <td>0.8866</td>\n",
       "    </tr>\n",
       "    <tr>\n",
       "      <th>2</th>\n",
       "      <td>0.247709</td>\n",
       "      <td>0.910873</td>\n",
       "      <td>0.297911</td>\n",
       "      <td>0.8964</td>\n",
       "    </tr>\n",
       "    <tr>\n",
       "      <th>3</th>\n",
       "      <td>0.239277</td>\n",
       "      <td>0.913836</td>\n",
       "      <td>0.314887</td>\n",
       "      <td>0.8896</td>\n",
       "    </tr>\n",
       "    <tr>\n",
       "      <th>4</th>\n",
       "      <td>0.233002</td>\n",
       "      <td>0.915273</td>\n",
       "      <td>0.288073</td>\n",
       "      <td>0.8982</td>\n",
       "    </tr>\n",
       "    <tr>\n",
       "      <th>5</th>\n",
       "      <td>0.224908</td>\n",
       "      <td>0.918873</td>\n",
       "      <td>0.290469</td>\n",
       "      <td>0.8928</td>\n",
       "    </tr>\n",
       "    <tr>\n",
       "      <th>6</th>\n",
       "      <td>0.219940</td>\n",
       "      <td>0.919818</td>\n",
       "      <td>0.294636</td>\n",
       "      <td>0.8902</td>\n",
       "    </tr>\n",
       "    <tr>\n",
       "      <th>7</th>\n",
       "      <td>0.214086</td>\n",
       "      <td>0.923018</td>\n",
       "      <td>0.286353</td>\n",
       "      <td>0.8990</td>\n",
       "    </tr>\n",
       "    <tr>\n",
       "      <th>8</th>\n",
       "      <td>0.207976</td>\n",
       "      <td>0.925164</td>\n",
       "      <td>0.281780</td>\n",
       "      <td>0.8996</td>\n",
       "    </tr>\n",
       "    <tr>\n",
       "      <th>9</th>\n",
       "      <td>0.203862</td>\n",
       "      <td>0.925709</td>\n",
       "      <td>0.280945</td>\n",
       "      <td>0.9002</td>\n",
       "    </tr>\n",
       "  </tbody>\n",
       "</table>\n",
       "</div>"
      ],
      "text/plain": [
       "       loss  accuracy  val_loss  val_accuracy\n",
       "0  0.264156  0.903927  0.305677        0.8926\n",
       "1  0.253927  0.908364  0.308514        0.8866\n",
       "2  0.247709  0.910873  0.297911        0.8964\n",
       "3  0.239277  0.913836  0.314887        0.8896\n",
       "4  0.233002  0.915273  0.288073        0.8982\n",
       "5  0.224908  0.918873  0.290469        0.8928\n",
       "6  0.219940  0.919818  0.294636        0.8902\n",
       "7  0.214086  0.923018  0.286353        0.8990\n",
       "8  0.207976  0.925164  0.281780        0.8996\n",
       "9  0.203862  0.925709  0.280945        0.9002"
      ]
     },
     "execution_count": 15,
     "metadata": {},
     "output_type": "execute_result"
    }
   ],
   "source": [
    "dd\n"
   ]
  },
  {
   "cell_type": "code",
   "execution_count": 16,
   "id": "fedb1869",
   "metadata": {},
   "outputs": [
    {
     "name": "stdout",
     "output_type": "stream",
     "text": [
      "313/313 [==============================] - 1s 2ms/step - loss: 54.8486 - accuracy: 0.8753\n"
     ]
    },
    {
     "data": {
      "text/plain": [
       "[54.848575592041016, 0.8752999901771545]"
      ]
     },
     "execution_count": 16,
     "metadata": {},
     "output_type": "execute_result"
    }
   ],
   "source": [
    "best_model.evaluate(x_test,y_test)"
   ]
  },
  {
   "cell_type": "code",
   "execution_count": null,
   "id": "0e130446",
   "metadata": {},
   "outputs": [],
   "source": []
  }
 ],
 "metadata": {
  "kernelspec": {
   "display_name": "Python 3 (ipykernel)",
   "language": "python",
   "name": "python3"
  },
  "language_info": {
   "codemirror_mode": {
    "name": "ipython",
    "version": 3
   },
   "file_extension": ".py",
   "mimetype": "text/x-python",
   "name": "python",
   "nbconvert_exporter": "python",
   "pygments_lexer": "ipython3",
   "version": "3.10.9"
  }
 },
 "nbformat": 4,
 "nbformat_minor": 5
}
