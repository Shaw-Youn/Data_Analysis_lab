{
 "cells": [
  {
   "cell_type": "code",
   "execution_count": 1,
   "id": "a67722c3",
   "metadata": {
    "scrolled": true
   },
   "outputs": [
    {
     "name": "stderr",
     "output_type": "stream",
     "text": [
      "2023-10-09 16:15:03.906937: I tensorflow/core/platform/cpu_feature_guard.cc:182] This TensorFlow binary is optimized to use available CPU instructions in performance-critical operations.\n",
      "To enable the following instructions: AVX2 FMA, in other operations, rebuild TensorFlow with the appropriate compiler flags.\n"
     ]
    }
   ],
   "source": [
    "import pandas as pd; import numpy as np; import tensorflow as tf"
   ]
  },
  {
   "cell_type": "code",
   "execution_count": 2,
   "id": "5bf0d137",
   "metadata": {},
   "outputs": [],
   "source": [
    "from tensorflow import keras"
   ]
  },
  {
   "cell_type": "code",
   "execution_count": 3,
   "id": "f961a246",
   "metadata": {},
   "outputs": [],
   "source": [
    "model = keras.models.Sequential([keras.layers.Flatten(input_shape=[28,28]),\n",
    "                                keras.layers.BatchNormalization(),\n",
    "                                keras.layers.Dense(300,activation='relu',kernel_initializer='he_normal'),\n",
    "                                keras.layers.BatchNormalization(),\n",
    "                                keras.layers.Dense(100,activation='relu',kernel_initializer='he_normal'),\n",
    "                                keras.layers.BatchNormalization(),\n",
    "                                keras.layers.Dense(8,activation='softmax'),\n",
    "                                ])"
   ]
  },
  {
   "cell_type": "code",
   "execution_count": 4,
   "id": "602e9dec",
   "metadata": {},
   "outputs": [
    {
     "name": "stdout",
     "output_type": "stream",
     "text": [
      "Model: \"sequential\"\n",
      "_________________________________________________________________\n",
      " Layer (type)                Output Shape              Param #   \n",
      "=================================================================\n",
      " flatten (Flatten)           (None, 784)               0         \n",
      "                                                                 \n",
      " batch_normalization (Batch  (None, 784)               3136      \n",
      " Normalization)                                                  \n",
      "                                                                 \n",
      " dense (Dense)               (None, 300)               235500    \n",
      "                                                                 \n",
      " batch_normalization_1 (Bat  (None, 300)               1200      \n",
      " chNormalization)                                                \n",
      "                                                                 \n",
      " dense_1 (Dense)             (None, 100)               30100     \n",
      "                                                                 \n",
      " batch_normalization_2 (Bat  (None, 100)               400       \n",
      " chNormalization)                                                \n",
      "                                                                 \n",
      " dense_2 (Dense)             (None, 8)                 808       \n",
      "                                                                 \n",
      "=================================================================\n",
      "Total params: 271144 (1.03 MB)\n",
      "Trainable params: 268776 (1.03 MB)\n",
      "Non-trainable params: 2368 (9.25 KB)\n",
      "_________________________________________________________________\n"
     ]
    }
   ],
   "source": [
    "model.summary()"
   ]
  },
  {
   "cell_type": "code",
   "execution_count": 5,
   "id": "7d28f9d5",
   "metadata": {},
   "outputs": [],
   "source": [
    "model.compile(loss='sparse_categorical_crossentropy',\n",
    "              optimizer=keras.optimizers.SGD(learning_rate=0.001),\n",
    "             metrics=['accuracy'])"
   ]
  },
  {
   "cell_type": "code",
   "execution_count": 6,
   "id": "38260ccf",
   "metadata": {},
   "outputs": [
    {
     "data": {
      "text/plain": [
       "[('batch_normalization/gamma:0', True),\n",
       " ('batch_normalization/beta:0', True),\n",
       " ('batch_normalization/moving_mean:0', False),\n",
       " ('batch_normalization/moving_variance:0', False)]"
      ]
     },
     "execution_count": 6,
     "metadata": {},
     "output_type": "execute_result"
    }
   ],
   "source": [
    "[(var.name,var.trainable) for var in model.layers[1].variables]"
   ]
  },
  {
   "cell_type": "code",
   "execution_count": 7,
   "id": "ab510bdd",
   "metadata": {},
   "outputs": [],
   "source": [
    "optimizer = keras.optimizers.SGD(learning_rate=1e-3,clipvalue=1.0)"
   ]
  },
  {
   "cell_type": "code",
   "execution_count": 8,
   "id": "54660fcd",
   "metadata": {},
   "outputs": [],
   "source": [
    "fashion = keras.datasets.fashion_mnist.load_data()"
   ]
  },
  {
   "cell_type": "code",
   "execution_count": 9,
   "id": "1fb600ed",
   "metadata": {},
   "outputs": [],
   "source": [
    "(x_train,y_train),(x_test,y_test) = fashion"
   ]
  },
  {
   "cell_type": "code",
   "execution_count": 10,
   "id": "aaaad958",
   "metadata": {},
   "outputs": [
    {
     "data": {
      "text/plain": [
       "(60000, 28, 28)"
      ]
     },
     "execution_count": 10,
     "metadata": {},
     "output_type": "execute_result"
    }
   ],
   "source": [
    "x_train.shape"
   ]
  },
  {
   "cell_type": "code",
   "execution_count": 11,
   "id": "aae88250",
   "metadata": {},
   "outputs": [
    {
     "name": "stdout",
     "output_type": "stream",
     "text": [
      "(48000, 28, 28)\n",
      "(200, 28, 28)\n"
     ]
    }
   ],
   "source": [
    "# 数据集拆分\n",
    "def split_dataset(X,y):\n",
    "    y_5_or_6 = (y==5)|(y==6)\n",
    "    y_A = y[~y_5_or_6]\n",
    "    y_A[y_A>6] -= 2 # 将类别标签7、8、9变成5、6、7\n",
    "        \n",
    "    y_B = (y[y_5_or_6] == 6).astype(np.float32) # True、False变成1、2\n",
    "    return ((X[~y_5_or_6], y_A),(X[y_5_or_6], y_B))\n",
    " \n",
    "(X_train_A, y_train_A), (X_train_B, y_train_B) = split_dataset(x_train, y_train)\n",
    "(X_test_A, y_test_A), (X_test_B, y_test_B) = split_dataset(x_test, y_test)\n",
    "X_train_B = X_train_B[:200]\n",
    "y_train_B = y_train_B[:200]\n",
    " \n",
    "for i in (X_train_A, X_train_B):\n",
    "    print(i.shape)"
   ]
  },
  {
   "cell_type": "code",
   "execution_count": 12,
   "id": "97fa5583",
   "metadata": {},
   "outputs": [
    {
     "name": "stdout",
     "output_type": "stream",
     "text": [
      "Epoch 1/20\n",
      "1200/1200 [==============================] - 8s 5ms/step - loss: 0.7294 - accuracy: 0.7593 - val_loss: 0.4330 - val_accuracy: 0.8582\n",
      "Epoch 2/20\n",
      "1200/1200 [==============================] - 5s 4ms/step - loss: 0.4354 - accuracy: 0.8557 - val_loss: 0.3604 - val_accuracy: 0.8785\n",
      "Epoch 3/20\n",
      "1200/1200 [==============================] - 5s 4ms/step - loss: 0.3805 - accuracy: 0.8722 - val_loss: 0.3271 - val_accuracy: 0.8897\n",
      "Epoch 4/20\n",
      "1200/1200 [==============================] - 5s 4ms/step - loss: 0.3549 - accuracy: 0.8800 - val_loss: 0.3086 - val_accuracy: 0.8946\n",
      "Epoch 5/20\n",
      "1200/1200 [==============================] - 5s 4ms/step - loss: 0.3356 - accuracy: 0.8855 - val_loss: 0.2940 - val_accuracy: 0.8996\n",
      "Epoch 6/20\n",
      "1200/1200 [==============================] - 5s 4ms/step - loss: 0.3220 - accuracy: 0.8911 - val_loss: 0.2845 - val_accuracy: 0.9022\n",
      "Epoch 7/20\n",
      "1200/1200 [==============================] - 5s 4ms/step - loss: 0.3088 - accuracy: 0.8953 - val_loss: 0.2766 - val_accuracy: 0.9050\n",
      "Epoch 8/20\n",
      "1200/1200 [==============================] - 5s 4ms/step - loss: 0.3040 - accuracy: 0.8956 - val_loss: 0.2706 - val_accuracy: 0.9057\n",
      "Epoch 9/20\n",
      "1200/1200 [==============================] - 5s 4ms/step - loss: 0.2919 - accuracy: 0.8999 - val_loss: 0.2645 - val_accuracy: 0.9081\n",
      "Epoch 10/20\n",
      "1200/1200 [==============================] - 5s 4ms/step - loss: 0.2878 - accuracy: 0.9007 - val_loss: 0.2599 - val_accuracy: 0.9093\n",
      "Epoch 11/20\n",
      "1200/1200 [==============================] - 5s 4ms/step - loss: 0.2800 - accuracy: 0.9027 - val_loss: 0.2563 - val_accuracy: 0.9115\n",
      "Epoch 12/20\n",
      "1200/1200 [==============================] - 5s 4ms/step - loss: 0.2733 - accuracy: 0.9076 - val_loss: 0.2537 - val_accuracy: 0.9129\n",
      "Epoch 13/20\n",
      "1200/1200 [==============================] - 5s 4ms/step - loss: 0.2699 - accuracy: 0.9089 - val_loss: 0.2486 - val_accuracy: 0.9131\n",
      "Epoch 14/20\n",
      "1200/1200 [==============================] - 5s 4ms/step - loss: 0.2642 - accuracy: 0.9089 - val_loss: 0.2465 - val_accuracy: 0.9144\n",
      "Epoch 15/20\n",
      "1200/1200 [==============================] - 5s 4ms/step - loss: 0.2622 - accuracy: 0.9114 - val_loss: 0.2437 - val_accuracy: 0.9171\n",
      "Epoch 16/20\n",
      "1200/1200 [==============================] - 5s 4ms/step - loss: 0.2550 - accuracy: 0.9124 - val_loss: 0.2437 - val_accuracy: 0.9173\n",
      "Epoch 17/20\n",
      "1200/1200 [==============================] - 5s 4ms/step - loss: 0.2531 - accuracy: 0.9129 - val_loss: 0.2394 - val_accuracy: 0.9178\n",
      "Epoch 18/20\n",
      "1200/1200 [==============================] - 5s 4ms/step - loss: 0.2476 - accuracy: 0.9154 - val_loss: 0.2387 - val_accuracy: 0.9174\n",
      "Epoch 19/20\n",
      "1200/1200 [==============================] - 5s 4ms/step - loss: 0.2438 - accuracy: 0.9172 - val_loss: 0.2362 - val_accuracy: 0.9195\n",
      "Epoch 20/20\n",
      "1200/1200 [==============================] - 5s 4ms/step - loss: 0.2435 - accuracy: 0.9152 - val_loss: 0.2352 - val_accuracy: 0.9196\n"
     ]
    }
   ],
   "source": [
    "history=model.fit(X_train_A,y_train_A,epochs=20,\n",
    "                  validation_split=0.2,callbacks=[keras.callbacks.EarlyStopping(patience=10)])"
   ]
  },
  {
   "cell_type": "code",
   "execution_count": 13,
   "id": "76f3ec26",
   "metadata": {},
   "outputs": [
    {
     "name": "stdout",
     "output_type": "stream",
     "text": [
      "INFO:tensorflow:Assets written to: my_model_A/assets\n"
     ]
    },
    {
     "name": "stderr",
     "output_type": "stream",
     "text": [
      "INFO:tensorflow:Assets written to: my_model_A/assets\n"
     ]
    }
   ],
   "source": [
    "model.save('my_model_A',save_format='tf')"
   ]
  },
  {
   "cell_type": "code",
   "execution_count": 14,
   "id": "d30fb6f1",
   "metadata": {},
   "outputs": [],
   "source": [
    "model_A = keras.models.load_model('my_model_A')"
   ]
  },
  {
   "cell_type": "code",
   "execution_count": 15,
   "id": "3efc4071",
   "metadata": {},
   "outputs": [
    {
     "name": "stdout",
     "output_type": "stream",
     "text": [
      "Model: \"sequential\"\n",
      "_________________________________________________________________\n",
      " Layer (type)                Output Shape              Param #   \n",
      "=================================================================\n",
      " flatten (Flatten)           (None, 784)               0         \n",
      "                                                                 \n",
      " batch_normalization (Batch  (None, 784)               3136      \n",
      " Normalization)                                                  \n",
      "                                                                 \n",
      " dense (Dense)               (None, 300)               235500    \n",
      "                                                                 \n",
      " batch_normalization_1 (Bat  (None, 300)               1200      \n",
      " chNormalization)                                                \n",
      "                                                                 \n",
      " dense_1 (Dense)             (None, 100)               30100     \n",
      "                                                                 \n",
      " batch_normalization_2 (Bat  (None, 100)               400       \n",
      " chNormalization)                                                \n",
      "                                                                 \n",
      " dense_2 (Dense)             (None, 8)                 808       \n",
      "                                                                 \n",
      "=================================================================\n",
      "Total params: 271144 (1.03 MB)\n",
      "Trainable params: 268776 (1.03 MB)\n",
      "Non-trainable params: 2368 (9.25 KB)\n",
      "_________________________________________________________________\n"
     ]
    }
   ],
   "source": [
    "model_A.summary()"
   ]
  },
  {
   "cell_type": "code",
   "execution_count": 16,
   "id": "24ab7165",
   "metadata": {},
   "outputs": [],
   "source": [
    "loss = pd.DataFrame(history.history)"
   ]
  },
  {
   "cell_type": "code",
   "execution_count": 17,
   "id": "dfae678c",
   "metadata": {},
   "outputs": [
    {
     "data": {
      "text/html": [
       "<div>\n",
       "<style scoped>\n",
       "    .dataframe tbody tr th:only-of-type {\n",
       "        vertical-align: middle;\n",
       "    }\n",
       "\n",
       "    .dataframe tbody tr th {\n",
       "        vertical-align: top;\n",
       "    }\n",
       "\n",
       "    .dataframe thead th {\n",
       "        text-align: right;\n",
       "    }\n",
       "</style>\n",
       "<table border=\"1\" class=\"dataframe\">\n",
       "  <thead>\n",
       "    <tr style=\"text-align: right;\">\n",
       "      <th></th>\n",
       "      <th>loss</th>\n",
       "      <th>accuracy</th>\n",
       "      <th>val_loss</th>\n",
       "      <th>val_accuracy</th>\n",
       "    </tr>\n",
       "  </thead>\n",
       "  <tbody>\n",
       "    <tr>\n",
       "      <th>18</th>\n",
       "      <td>0.243795</td>\n",
       "      <td>0.917240</td>\n",
       "      <td>0.236237</td>\n",
       "      <td>0.919479</td>\n",
       "    </tr>\n",
       "    <tr>\n",
       "      <th>17</th>\n",
       "      <td>0.247591</td>\n",
       "      <td>0.915417</td>\n",
       "      <td>0.238669</td>\n",
       "      <td>0.917396</td>\n",
       "    </tr>\n",
       "    <tr>\n",
       "      <th>19</th>\n",
       "      <td>0.243467</td>\n",
       "      <td>0.915234</td>\n",
       "      <td>0.235223</td>\n",
       "      <td>0.919583</td>\n",
       "    </tr>\n",
       "    <tr>\n",
       "      <th>16</th>\n",
       "      <td>0.253065</td>\n",
       "      <td>0.912865</td>\n",
       "      <td>0.239444</td>\n",
       "      <td>0.917813</td>\n",
       "    </tr>\n",
       "    <tr>\n",
       "      <th>15</th>\n",
       "      <td>0.254959</td>\n",
       "      <td>0.912448</td>\n",
       "      <td>0.243676</td>\n",
       "      <td>0.917292</td>\n",
       "    </tr>\n",
       "    <tr>\n",
       "      <th>14</th>\n",
       "      <td>0.262179</td>\n",
       "      <td>0.911354</td>\n",
       "      <td>0.243658</td>\n",
       "      <td>0.917083</td>\n",
       "    </tr>\n",
       "    <tr>\n",
       "      <th>13</th>\n",
       "      <td>0.264207</td>\n",
       "      <td>0.908906</td>\n",
       "      <td>0.246535</td>\n",
       "      <td>0.914375</td>\n",
       "    </tr>\n",
       "    <tr>\n",
       "      <th>12</th>\n",
       "      <td>0.269914</td>\n",
       "      <td>0.908880</td>\n",
       "      <td>0.248619</td>\n",
       "      <td>0.913125</td>\n",
       "    </tr>\n",
       "    <tr>\n",
       "      <th>11</th>\n",
       "      <td>0.273348</td>\n",
       "      <td>0.907578</td>\n",
       "      <td>0.253724</td>\n",
       "      <td>0.912917</td>\n",
       "    </tr>\n",
       "    <tr>\n",
       "      <th>10</th>\n",
       "      <td>0.279950</td>\n",
       "      <td>0.902682</td>\n",
       "      <td>0.256349</td>\n",
       "      <td>0.911458</td>\n",
       "    </tr>\n",
       "    <tr>\n",
       "      <th>9</th>\n",
       "      <td>0.287837</td>\n",
       "      <td>0.900703</td>\n",
       "      <td>0.259871</td>\n",
       "      <td>0.909271</td>\n",
       "    </tr>\n",
       "    <tr>\n",
       "      <th>8</th>\n",
       "      <td>0.291874</td>\n",
       "      <td>0.899922</td>\n",
       "      <td>0.264502</td>\n",
       "      <td>0.908125</td>\n",
       "    </tr>\n",
       "    <tr>\n",
       "      <th>7</th>\n",
       "      <td>0.303977</td>\n",
       "      <td>0.895573</td>\n",
       "      <td>0.270580</td>\n",
       "      <td>0.905729</td>\n",
       "    </tr>\n",
       "    <tr>\n",
       "      <th>6</th>\n",
       "      <td>0.308815</td>\n",
       "      <td>0.895339</td>\n",
       "      <td>0.276594</td>\n",
       "      <td>0.905000</td>\n",
       "    </tr>\n",
       "    <tr>\n",
       "      <th>5</th>\n",
       "      <td>0.321972</td>\n",
       "      <td>0.891068</td>\n",
       "      <td>0.284495</td>\n",
       "      <td>0.902188</td>\n",
       "    </tr>\n",
       "    <tr>\n",
       "      <th>4</th>\n",
       "      <td>0.335615</td>\n",
       "      <td>0.885495</td>\n",
       "      <td>0.294017</td>\n",
       "      <td>0.899583</td>\n",
       "    </tr>\n",
       "    <tr>\n",
       "      <th>3</th>\n",
       "      <td>0.354851</td>\n",
       "      <td>0.879974</td>\n",
       "      <td>0.308572</td>\n",
       "      <td>0.894583</td>\n",
       "    </tr>\n",
       "    <tr>\n",
       "      <th>2</th>\n",
       "      <td>0.380484</td>\n",
       "      <td>0.872240</td>\n",
       "      <td>0.327087</td>\n",
       "      <td>0.889687</td>\n",
       "    </tr>\n",
       "    <tr>\n",
       "      <th>1</th>\n",
       "      <td>0.435442</td>\n",
       "      <td>0.855677</td>\n",
       "      <td>0.360380</td>\n",
       "      <td>0.878542</td>\n",
       "    </tr>\n",
       "    <tr>\n",
       "      <th>0</th>\n",
       "      <td>0.729415</td>\n",
       "      <td>0.759323</td>\n",
       "      <td>0.432993</td>\n",
       "      <td>0.858229</td>\n",
       "    </tr>\n",
       "  </tbody>\n",
       "</table>\n",
       "</div>"
      ],
      "text/plain": [
       "        loss  accuracy  val_loss  val_accuracy\n",
       "18  0.243795  0.917240  0.236237      0.919479\n",
       "17  0.247591  0.915417  0.238669      0.917396\n",
       "19  0.243467  0.915234  0.235223      0.919583\n",
       "16  0.253065  0.912865  0.239444      0.917813\n",
       "15  0.254959  0.912448  0.243676      0.917292\n",
       "14  0.262179  0.911354  0.243658      0.917083\n",
       "13  0.264207  0.908906  0.246535      0.914375\n",
       "12  0.269914  0.908880  0.248619      0.913125\n",
       "11  0.273348  0.907578  0.253724      0.912917\n",
       "10  0.279950  0.902682  0.256349      0.911458\n",
       "9   0.287837  0.900703  0.259871      0.909271\n",
       "8   0.291874  0.899922  0.264502      0.908125\n",
       "7   0.303977  0.895573  0.270580      0.905729\n",
       "6   0.308815  0.895339  0.276594      0.905000\n",
       "5   0.321972  0.891068  0.284495      0.902188\n",
       "4   0.335615  0.885495  0.294017      0.899583\n",
       "3   0.354851  0.879974  0.308572      0.894583\n",
       "2   0.380484  0.872240  0.327087      0.889687\n",
       "1   0.435442  0.855677  0.360380      0.878542\n",
       "0   0.729415  0.759323  0.432993      0.858229"
      ]
     },
     "execution_count": 17,
     "metadata": {},
     "output_type": "execute_result"
    }
   ],
   "source": [
    "loss.sort_values(by=['accuracy'],ascending=False)"
   ]
  },
  {
   "cell_type": "code",
   "execution_count": 18,
   "id": "d5893ffc",
   "metadata": {},
   "outputs": [
    {
     "data": {
      "text/plain": [
       "Index(['loss', 'accuracy', 'val_loss', 'val_accuracy'], dtype='object')"
      ]
     },
     "execution_count": 18,
     "metadata": {},
     "output_type": "execute_result"
    }
   ],
   "source": [
    "loss.columns"
   ]
  },
  {
   "cell_type": "code",
   "execution_count": 19,
   "id": "932cb3d2",
   "metadata": {},
   "outputs": [
    {
     "data": {
      "text/plain": [
       "7"
      ]
     },
     "execution_count": 19,
     "metadata": {},
     "output_type": "execute_result"
    }
   ],
   "source": [
    "len(model_A.layers)"
   ]
  },
  {
   "cell_type": "markdown",
   "id": "995cc63d",
   "metadata": {},
   "source": [
    "## Transfer Learning\n",
    "General steps:\n",
    "1. Choose layers from trained model_A\n",
    "2. Use keras.models.clone_model() to clone model_A in case if runing new model will affect model_A\n",
    "3. Use model_clone_A.set_weights(model_A.get_weights()) to copy the weights as well\n",
    "4. Set up new model_B by reusing layers for model_A\n",
    "5. Freeze all reused layers by setting : layers.trainable = False, then compile the molde before training the model.\n",
    "6. Train the model a few epochs, then unfreeze all reused layers by setting: layers.trainable = True, then compile the model again, fiaally continue training to fine-tune the resued layers for the task.\n"
   ]
  },
  {
   "cell_type": "code",
   "execution_count": 20,
   "id": "170a36e2",
   "metadata": {},
   "outputs": [],
   "source": [
    "model_A_clone = keras.models.clone_model(model_A) # clone_model() method clones only architecture, not the weights\n",
    "model_A_clone.set_weights(model_A.get_weights()) # using set_weights() copies model_A's weights as well."
   ]
  },
  {
   "cell_type": "code",
   "execution_count": 21,
   "id": "2a45a0ca",
   "metadata": {},
   "outputs": [],
   "source": [
    "# reuse all low-level layers from model_A except the output layer.\n",
    "model_B_on_A = keras.models.Sequential(model_A_clone.layers[:-1]) "
   ]
  },
  {
   "cell_type": "code",
   "execution_count": 22,
   "id": "6cc7e951",
   "metadata": {},
   "outputs": [],
   "source": [
    "model_B_on_A.add(keras.layers.Dense(1,activation='sigmoid'))"
   ]
  },
  {
   "cell_type": "code",
   "execution_count": 23,
   "id": "78e598e8",
   "metadata": {},
   "outputs": [
    {
     "name": "stdout",
     "output_type": "stream",
     "text": [
      "Model: \"sequential_1\"\n",
      "_________________________________________________________________\n",
      " Layer (type)                Output Shape              Param #   \n",
      "=================================================================\n",
      " flatten (Flatten)           (None, 784)               0         \n",
      "                                                                 \n",
      " batch_normalization (Batch  (None, 784)               3136      \n",
      " Normalization)                                                  \n",
      "                                                                 \n",
      " dense (Dense)               (None, 300)               235500    \n",
      "                                                                 \n",
      " batch_normalization_1 (Bat  (None, 300)               1200      \n",
      " chNormalization)                                                \n",
      "                                                                 \n",
      " dense_1 (Dense)             (None, 100)               30100     \n",
      "                                                                 \n",
      " batch_normalization_2 (Bat  (None, 100)               400       \n",
      " chNormalization)                                                \n",
      "                                                                 \n",
      " dense_3 (Dense)             (None, 1)                 101       \n",
      "                                                                 \n",
      "=================================================================\n",
      "Total params: 270437 (1.03 MB)\n",
      "Trainable params: 268069 (1.02 MB)\n",
      "Non-trainable params: 2368 (9.25 KB)\n",
      "_________________________________________________________________\n"
     ]
    }
   ],
   "source": [
    "model_B_on_A.summary()"
   ]
  },
  {
   "cell_type": "code",
   "execution_count": 24,
   "id": "22432259",
   "metadata": {},
   "outputs": [
    {
     "data": {
      "text/plain": [
       "[<keras.src.layers.reshaping.flatten.Flatten at 0x7fc1dfc56a40>,\n",
       " <keras.src.layers.normalization.batch_normalization.BatchNormalization at 0x7fc1dfc56ad0>,\n",
       " <keras.src.layers.core.dense.Dense at 0x7fc1dfc57f70>,\n",
       " <keras.src.layers.normalization.batch_normalization.BatchNormalization at 0x7fc1dfc56b60>,\n",
       " <keras.src.layers.core.dense.Dense at 0x7fc1dfc56800>,\n",
       " <keras.src.layers.normalization.batch_normalization.BatchNormalization at 0x7fc1dfc556c0>]"
      ]
     },
     "execution_count": 24,
     "metadata": {},
     "output_type": "execute_result"
    }
   ],
   "source": [
    "model_B_on_A.layers[:-1]"
   ]
  },
  {
   "cell_type": "code",
   "execution_count": 25,
   "id": "902a0e98",
   "metadata": {},
   "outputs": [],
   "source": [
    "for layer in model_B_on_A.layers[:-1]:\n",
    "    layer.trainable = False   # freeze the reused layers.\n",
    "optimizer = keras.optimizers.SGD(learning_rate=1e-3)\n",
    "# Remember that we must always compile the model after freezing or unfreezing layers.\n",
    "model_B_on_A.compile(loss='binary_crossentropy',optimizer=optimizer,metrics=['accuracy'])"
   ]
  },
  {
   "cell_type": "code",
   "execution_count": 26,
   "id": "bcd4d784",
   "metadata": {},
   "outputs": [
    {
     "name": "stdout",
     "output_type": "stream",
     "text": [
      "250/250 [==============================] - 1s 2ms/step - loss: 0.2578 - accuracy: 0.9103\n"
     ]
    },
    {
     "data": {
      "text/plain": [
       "{'loss': 0.25779664516448975, 'accuracy': 0.9102500081062317}"
      ]
     },
     "execution_count": 26,
     "metadata": {},
     "output_type": "execute_result"
    }
   ],
   "source": [
    "model.evaluate(X_test_A,y_test_A,return_dict=True)"
   ]
  },
  {
   "cell_type": "code",
   "execution_count": 27,
   "id": "0bf28416",
   "metadata": {},
   "outputs": [
    {
     "data": {
      "image/png": "[encoded data removed]",
      "text/plain": [
       "<Figure size 800x400 with 20 Axes>"
      ]
     },
     "metadata": {},
     "output_type": "display_data"
    }
   ],
   "source": [
    "import matplotlib.pyplot as plt\n",
    "plt.figure(figsize=(8,4))\n",
    "for i in range(20):\n",
    "    plt.subplot(2,10,i+1)\n",
    "    plt.imshow(X_train_A[i],cmap='binary')\n",
    "    plt.title(y_train_A[i])\n",
    "    plt.axis('off')\n",
    "plt.tight_layout()\n",
    "plt.show()\n"
   ]
  },
  {
   "cell_type": "code",
   "execution_count": 28,
   "id": "a52a244c",
   "metadata": {},
   "outputs": [
    {
     "name": "stdout",
     "output_type": "stream",
     "text": [
      "Epoch 1/4\n",
      "5/5 [==============================] - 1s 81ms/step - loss: 1.1520 - accuracy: 0.3125 - val_loss: 1.0841 - val_accuracy: 0.3250\n",
      "Epoch 2/4\n",
      "5/5 [==============================] - 0s 14ms/step - loss: 1.1250 - accuracy: 0.3375 - val_loss: 1.0572 - val_accuracy: 0.3250\n",
      "Epoch 3/4\n",
      "5/5 [==============================] - 0s 14ms/step - loss: 1.0989 - accuracy: 0.3750 - val_loss: 1.0312 - val_accuracy: 0.3500\n",
      "Epoch 4/4\n",
      "5/5 [==============================] - 0s 12ms/step - loss: 1.0739 - accuracy: 0.3938 - val_loss: 1.0060 - val_accuracy: 0.3500\n"
     ]
    }
   ],
   "source": [
    "H = model_B_on_A.fit(X_train_B,y_train_B,epochs=4,validation_split=0.2) # train the model for a few epochs\n",
    "for layer in model_B_on_A.layers[:-1]:\n",
    "    layer.trainable = True   # unfreeze the reused layers.\n",
    "optimizer = keras.optimizers.SGD(learning_rate=1e-3)\n",
    "model_B_on_A.compile(loss='binary_crossentropy',optimizer=optimizer,metrics=['accuracy'])\n",
    "    "
   ]
  },
  {
   "cell_type": "code",
   "execution_count": 29,
   "id": "85ba926e",
   "metadata": {},
   "outputs": [
    {
     "name": "stdout",
     "output_type": "stream",
     "text": [
      "Epoch 1/16\n",
      "5/5 [==============================] - 2s 77ms/step - loss: 1.1829 - accuracy: 0.3000 - val_loss: 0.8430 - val_accuracy: 0.4250\n",
      "Epoch 2/16\n",
      "5/5 [==============================] - 0s 16ms/step - loss: 1.0359 - accuracy: 0.4125 - val_loss: 0.7216 - val_accuracy: 0.6000\n",
      "Epoch 3/16\n",
      "5/5 [==============================] - 0s 18ms/step - loss: 0.8676 - accuracy: 0.5250 - val_loss: 0.6320 - val_accuracy: 0.7250\n",
      "Epoch 4/16\n",
      "5/5 [==============================] - 0s 14ms/step - loss: 0.7456 - accuracy: 0.5750 - val_loss: 0.5629 - val_accuracy: 0.7250\n",
      "Epoch 5/16\n",
      "5/5 [==============================] - 0s 13ms/step - loss: 0.7192 - accuracy: 0.5938 - val_loss: 0.5089 - val_accuracy: 0.7250\n",
      "Epoch 6/16\n",
      "5/5 [==============================] - 0s 13ms/step - loss: 0.6084 - accuracy: 0.7000 - val_loss: 0.4668 - val_accuracy: 0.7250\n",
      "Epoch 7/16\n",
      "5/5 [==============================] - 0s 12ms/step - loss: 0.5487 - accuracy: 0.7125 - val_loss: 0.4302 - val_accuracy: 0.7500\n",
      "Epoch 8/16\n",
      "5/5 [==============================] - 0s 16ms/step - loss: 0.5361 - accuracy: 0.7625 - val_loss: 0.3992 - val_accuracy: 0.7500\n",
      "Epoch 9/16\n",
      "5/5 [==============================] - 0s 16ms/step - loss: 0.4627 - accuracy: 0.7875 - val_loss: 0.3740 - val_accuracy: 0.8500\n",
      "Epoch 10/16\n",
      "5/5 [==============================] - 0s 18ms/step - loss: 0.4207 - accuracy: 0.8188 - val_loss: 0.3523 - val_accuracy: 0.8500\n",
      "Epoch 11/16\n",
      "5/5 [==============================] - 0s 17ms/step - loss: 0.4091 - accuracy: 0.8500 - val_loss: 0.3340 - val_accuracy: 0.8500\n",
      "Epoch 12/16\n",
      "5/5 [==============================] - 0s 15ms/step - loss: 0.3994 - accuracy: 0.8438 - val_loss: 0.3172 - val_accuracy: 0.8500\n",
      "Epoch 13/16\n",
      "5/5 [==============================] - 0s 19ms/step - loss: 0.3774 - accuracy: 0.8438 - val_loss: 0.3027 - val_accuracy: 0.9000\n",
      "Epoch 14/16\n",
      "5/5 [==============================] - 0s 18ms/step - loss: 0.3359 - accuracy: 0.8687 - val_loss: 0.2891 - val_accuracy: 0.9000\n",
      "Epoch 15/16\n",
      "5/5 [==============================] - 0s 18ms/step - loss: 0.3131 - accuracy: 0.8625 - val_loss: 0.2772 - val_accuracy: 0.9000\n",
      "Epoch 16/16\n",
      "5/5 [==============================] - 0s 17ms/step - loss: 0.3007 - accuracy: 0.8813 - val_loss: 0.2673 - val_accuracy: 0.9000\n"
     ]
    }
   ],
   "source": [
    "#after unfreezing the resused layers, then continue training to fine-tune the resued layers for the task.\n",
    "history = model_B_on_A.fit(X_train_B,y_train_B,epochs=16, validation_split=0.2)"
   ]
  },
  {
   "cell_type": "code",
   "execution_count": 30,
   "id": "fe425941",
   "metadata": {},
   "outputs": [
    {
     "name": "stdout",
     "output_type": "stream",
     "text": [
      "63/63 [==============================] - 0s 2ms/step - loss: 0.3316 - accuracy: 0.8610\n"
     ]
    },
    {
     "data": {
      "text/plain": [
       "{'loss': 0.3315581977367401, 'accuracy': 0.8610000014305115}"
      ]
     },
     "execution_count": 30,
     "metadata": {},
     "output_type": "execute_result"
    }
   ],
   "source": [
    "model_B_on_A.evaluate(X_test_B,y_test_B,return_dict=True)"
   ]
  },
  {
   "cell_type": "code",
   "execution_count": 31,
   "id": "eb069c69",
   "metadata": {},
   "outputs": [
    {
     "name": "stdout",
     "output_type": "stream",
     "text": [
      "INFO:tensorflow:Assets written to: my_transfer_lerning/assets\n"
     ]
    },
    {
     "name": "stderr",
     "output_type": "stream",
     "text": [
      "INFO:tensorflow:Assets written to: my_transfer_lerning/assets\n"
     ]
    }
   ],
   "source": [
    "model_B_on_A.save('my_transfer_lerning',save_format='tf')"
   ]
  },
  {
   "cell_type": "code",
   "execution_count": 33,
   "id": "8ccc552b",
   "metadata": {},
   "outputs": [
    {
     "name": "stdout",
     "output_type": "stream",
     "text": [
      "63/63 [==============================] - 0s 2ms/step - loss: 0.3316 - accuracy: 0.8610\n"
     ]
    },
    {
     "data": {
      "text/plain": [
       "{'loss': 0.3315581977367401, 'accuracy': 0.8610000014305115}"
      ]
     },
     "execution_count": 33,
     "metadata": {},
     "output_type": "execute_result"
    }
   ],
   "source": [
    "model_B_on_A.evaluate(X_test_B,y_test_B,return_dict=True)"
   ]
  }
 ],
 "metadata": {
  "kernelspec": {
   "display_name": "Python 3 (ipykernel)",
   "language": "python",
   "name": "python3"
  },
  "language_info": {
   "codemirror_mode": {
    "name": "ipython",
    "version": 3
   },
   "file_extension": ".py",
   "mimetype": "text/x-python",
   "name": "python",
   "nbconvert_exporter": "python",
   "pygments_lexer": "ipython3",
   "version": "3.8.8"
  }
 },
 "nbformat": 4,
 "nbformat_minor": 5
}
