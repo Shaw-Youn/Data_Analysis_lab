{
 "cells": [
  {
   "cell_type": "code",
   "execution_count": 1,
   "id": "dae7af90",
   "metadata": {},
   "outputs": [],
   "source": [
    "import numpy as np\n",
    "import pandas as pd\n",
    "from sklearn.model_selection import train_test_split"
   ]
  },
  {
   "cell_type": "code",
   "execution_count": 2,
   "id": "36e78889",
   "metadata": {},
   "outputs": [
    {
     "name": "stderr",
     "output_type": "stream",
     "text": [
      "2023-10-01 16:29:47.679061: I tensorflow/core/platform/cpu_feature_guard.cc:182] This TensorFlow binary is optimized to use available CPU instructions in performance-critical operations.\n",
      "To enable the following instructions: AVX2 FMA, in other operations, rebuild TensorFlow with the appropriate compiler flags.\n"
     ]
    },
    {
     "name": "stdout",
     "output_type": "stream",
     "text": [
      "Using TensorFlow backend\n"
     ]
    }
   ],
   "source": [
    "from tensorflow import keras; import keras_tuner as kt"
   ]
  },
  {
   "cell_type": "code",
   "execution_count": 3,
   "id": "249acdf1",
   "metadata": {},
   "outputs": [],
   "source": [
    "input_A = keras.layers.Input(shape=[5],name='wide_input')\n",
    "input_B = keras.layers.Input(shape=[6],name='deep_input')\n",
    "norm_layer_A = keras.layers.Normalization()\n",
    "norm_layer_B = keras.layers.Normalization()\n",
    "normalized_A = norm_layer_A(input_A)\n",
    "normalized_B = norm_layer_B(input_B)\n",
    "hidden1 = keras.layers.Dense(30,activation='relu')(normalized_B)\n",
    "hidden2 = keras.layers.Dense(30, activation='relu')(hidden1)\n",
    "concat = keras.layers.concatenate([normalized_B,hidden2])\n",
    "output_A = keras.layers.Dense(1,name='main_output')(concat)\n",
    "output_B =keras.layers.Dense(1,name='aux_output')(hidden2)\n",
    "model = keras.Model(inputs=[input_A,input_B],outputs=[output_A,output_B])\n",
    "optimizer = keras.optimizers.SGD(learning_rate=3e-3)\n",
    "model.compile(loss='mse',loss_weights=[0.9,0.1],optimizer = optimizer,\n",
    "             metrics=['RootMeanSquaredError'])\n",
    "\n"
   ]
  },
  {
   "cell_type": "code",
   "execution_count": 4,
   "id": "6a576d34",
   "metadata": {},
   "outputs": [],
   "source": [
    "from sklearn.datasets import fetch_california_housing\n",
    "housing = fetch_california_housing()\n",
    "X_train_full,X_test,y_train_full,y_test =train_test_split(housing.data,housing.target) "
   ]
  },
  {
   "cell_type": "code",
   "execution_count": 5,
   "id": "367ceccb",
   "metadata": {},
   "outputs": [],
   "source": [
    "x_train,x_val,y_train,y_val = train_test_split(X_train_full,y_train_full)\n",
    "x_train_A,x_train_B = x_train[:,:5],x_train[:,2:]\n",
    "x_test_A,x_test_B = X_test[:,:5],X_test[:,2:]\n",
    "x_val_A,x_val_B = x_val[:,:5],x_val[:,2:]"
   ]
  },
  {
   "cell_type": "code",
   "execution_count": 6,
   "id": "a5970ef8",
   "metadata": {},
   "outputs": [
    {
     "name": "stdout",
     "output_type": "stream",
     "text": [
      "Epoch 1/10\n",
      "363/363 [==============================] - 3s 4ms/step - loss: 1.8012 - main_output_loss: 1.6439 - aux_output_loss: 3.2171 - main_output_root_mean_squared_error: 1.2821 - aux_output_root_mean_squared_error: 1.7936 - val_loss: 4.2508 - val_main_output_loss: 4.5116 - val_aux_output_loss: 1.9039 - val_main_output_root_mean_squared_error: 2.1241 - val_aux_output_root_mean_squared_error: 1.3798\n",
      "Epoch 2/10\n",
      "363/363 [==============================] - 1s 3ms/step - loss: 1.3675 - main_output_loss: 1.3608 - aux_output_loss: 1.4281 - main_output_root_mean_squared_error: 1.1665 - aux_output_root_mean_squared_error: 1.1950 - val_loss: 53.9854 - val_main_output_loss: 57.9691 - val_aux_output_loss: 18.1322 - val_main_output_root_mean_squared_error: 7.6137 - val_aux_output_root_mean_squared_error: 4.2582\n",
      "Epoch 3/10\n",
      "363/363 [==============================] - 1s 3ms/step - loss: 1.6189 - main_output_loss: 1.6352 - aux_output_loss: 1.4721 - main_output_root_mean_squared_error: 1.2788 - aux_output_root_mean_squared_error: 1.2133 - val_loss: 4.1316 - val_main_output_loss: 4.4467 - val_aux_output_loss: 1.2956 - val_main_output_root_mean_squared_error: 2.1087 - val_aux_output_root_mean_squared_error: 1.1382\n",
      "Epoch 4/10\n",
      "363/363 [==============================] - 1s 2ms/step - loss: 0.9014 - main_output_loss: 0.8820 - aux_output_loss: 1.0762 - main_output_root_mean_squared_error: 0.9391 - aux_output_root_mean_squared_error: 1.0374 - val_loss: 3.6315 - val_main_output_loss: 3.8433 - val_aux_output_loss: 1.7254 - val_main_output_root_mean_squared_error: 1.9604 - val_aux_output_root_mean_squared_error: 1.3135\n",
      "Epoch 5/10\n",
      "363/363 [==============================] - 1s 2ms/step - loss: 0.7997 - main_output_loss: 0.7780 - aux_output_loss: 0.9953 - main_output_root_mean_squared_error: 0.8820 - aux_output_root_mean_squared_error: 0.9976 - val_loss: 2.7909 - val_main_output_loss: 2.9916 - val_aux_output_loss: 0.9851 - val_main_output_root_mean_squared_error: 1.7296 - val_aux_output_root_mean_squared_error: 0.9925\n",
      "Epoch 6/10\n",
      "363/363 [==============================] - 1s 2ms/step - loss: 0.8682 - main_output_loss: 0.8650 - aux_output_loss: 0.8973 - main_output_root_mean_squared_error: 0.9301 - aux_output_root_mean_squared_error: 0.9473 - val_loss: 1.9537 - val_main_output_loss: 2.0487 - val_aux_output_loss: 1.0989 - val_main_output_root_mean_squared_error: 1.4313 - val_aux_output_root_mean_squared_error: 1.0483\n",
      "Epoch 7/10\n",
      "363/363 [==============================] - 1s 2ms/step - loss: 0.7672 - main_output_loss: 0.7565 - aux_output_loss: 0.8630 - main_output_root_mean_squared_error: 0.8698 - aux_output_root_mean_squared_error: 0.9290 - val_loss: 1.3424 - val_main_output_loss: 1.3943 - val_aux_output_loss: 0.8752 - val_main_output_root_mean_squared_error: 1.1808 - val_aux_output_root_mean_squared_error: 0.9355\n",
      "Epoch 8/10\n",
      "363/363 [==============================] - 1s 2ms/step - loss: 0.6953 - main_output_loss: 0.6827 - aux_output_loss: 0.8085 - main_output_root_mean_squared_error: 0.8263 - aux_output_root_mean_squared_error: 0.8992 - val_loss: 0.8832 - val_main_output_loss: 0.8825 - val_aux_output_loss: 0.8896 - val_main_output_root_mean_squared_error: 0.9394 - val_aux_output_root_mean_squared_error: 0.9432\n",
      "Epoch 9/10\n",
      "363/363 [==============================] - 1s 2ms/step - loss: 0.6306 - main_output_loss: 0.6138 - aux_output_loss: 0.7815 - main_output_root_mean_squared_error: 0.7834 - aux_output_root_mean_squared_error: 0.8840 - val_loss: 0.7569 - val_main_output_loss: 0.7495 - val_aux_output_loss: 0.8236 - val_main_output_root_mean_squared_error: 0.8657 - val_aux_output_root_mean_squared_error: 0.9075\n",
      "Epoch 10/10\n",
      "363/363 [==============================] - 1s 2ms/step - loss: 0.6139 - main_output_loss: 0.5985 - aux_output_loss: 0.7518 - main_output_root_mean_squared_error: 0.7737 - aux_output_root_mean_squared_error: 0.8671 - val_loss: 0.6583 - val_main_output_loss: 0.6406 - val_aux_output_loss: 0.8176 - val_main_output_root_mean_squared_error: 0.8004 - val_aux_output_root_mean_squared_error: 0.9042\n"
     ]
    }
   ],
   "source": [
    "norm_layer_A.adapt(x_train_A)\n",
    "norm_layer_B.adapt(x_train_B)\n",
    "history = model.fit([x_train_A,x_train_B],[y_train,y_train],epochs=10, \n",
    "                    validation_data=([x_val_A,x_val_B],[y_val,y_val]),\n",
    "                    callbacks=[keras.callbacks.EarlyStopping(patience=5)])"
   ]
  },
  {
   "cell_type": "code",
   "execution_count": 7,
   "id": "6dcc3e86",
   "metadata": {},
   "outputs": [
    {
     "data": {
      "text/html": [
       "<div>\n",
       "<style scoped>\n",
       "    .dataframe tbody tr th:only-of-type {\n",
       "        vertical-align: middle;\n",
       "    }\n",
       "\n",
       "    .dataframe tbody tr th {\n",
       "        vertical-align: top;\n",
       "    }\n",
       "\n",
       "    .dataframe thead th {\n",
       "        text-align: right;\n",
       "    }\n",
       "</style>\n",
       "<table border=\"1\" class=\"dataframe\">\n",
       "  <thead>\n",
       "    <tr style=\"text-align: right;\">\n",
       "      <th></th>\n",
       "      <th>loss</th>\n",
       "      <th>main_output_loss</th>\n",
       "      <th>aux_output_loss</th>\n",
       "      <th>main_output_root_mean_squared_error</th>\n",
       "      <th>aux_output_root_mean_squared_error</th>\n",
       "      <th>val_loss</th>\n",
       "      <th>val_main_output_loss</th>\n",
       "      <th>val_aux_output_loss</th>\n",
       "      <th>val_main_output_root_mean_squared_error</th>\n",
       "      <th>val_aux_output_root_mean_squared_error</th>\n",
       "    </tr>\n",
       "  </thead>\n",
       "  <tbody>\n",
       "    <tr>\n",
       "      <th>0</th>\n",
       "      <td>1.801210</td>\n",
       "      <td>1.643891</td>\n",
       "      <td>3.217087</td>\n",
       "      <td>1.282143</td>\n",
       "      <td>1.793624</td>\n",
       "      <td>4.250830</td>\n",
       "      <td>4.511605</td>\n",
       "      <td>1.903858</td>\n",
       "      <td>2.124054</td>\n",
       "      <td>1.379804</td>\n",
       "    </tr>\n",
       "    <tr>\n",
       "      <th>1</th>\n",
       "      <td>1.367509</td>\n",
       "      <td>1.360782</td>\n",
       "      <td>1.428059</td>\n",
       "      <td>1.166526</td>\n",
       "      <td>1.195014</td>\n",
       "      <td>53.985397</td>\n",
       "      <td>57.969093</td>\n",
       "      <td>18.132195</td>\n",
       "      <td>7.613744</td>\n",
       "      <td>4.258192</td>\n",
       "    </tr>\n",
       "    <tr>\n",
       "      <th>2</th>\n",
       "      <td>1.618891</td>\n",
       "      <td>1.635205</td>\n",
       "      <td>1.472063</td>\n",
       "      <td>1.278751</td>\n",
       "      <td>1.213286</td>\n",
       "      <td>4.131582</td>\n",
       "      <td>4.446695</td>\n",
       "      <td>1.295568</td>\n",
       "      <td>2.108719</td>\n",
       "      <td>1.138230</td>\n",
       "    </tr>\n",
       "    <tr>\n",
       "      <th>3</th>\n",
       "      <td>0.901417</td>\n",
       "      <td>0.881998</td>\n",
       "      <td>1.076195</td>\n",
       "      <td>0.939147</td>\n",
       "      <td>1.037398</td>\n",
       "      <td>3.631534</td>\n",
       "      <td>3.843328</td>\n",
       "      <td>1.725384</td>\n",
       "      <td>1.960441</td>\n",
       "      <td>1.313539</td>\n",
       "    </tr>\n",
       "    <tr>\n",
       "      <th>4</th>\n",
       "      <td>0.799726</td>\n",
       "      <td>0.777999</td>\n",
       "      <td>0.995265</td>\n",
       "      <td>0.882043</td>\n",
       "      <td>0.997630</td>\n",
       "      <td>2.790921</td>\n",
       "      <td>2.991564</td>\n",
       "      <td>0.985132</td>\n",
       "      <td>1.729614</td>\n",
       "      <td>0.992538</td>\n",
       "    </tr>\n",
       "    <tr>\n",
       "      <th>5</th>\n",
       "      <td>0.868230</td>\n",
       "      <td>0.864996</td>\n",
       "      <td>0.897339</td>\n",
       "      <td>0.930051</td>\n",
       "      <td>0.947280</td>\n",
       "      <td>1.953726</td>\n",
       "      <td>2.048701</td>\n",
       "      <td>1.098946</td>\n",
       "      <td>1.431328</td>\n",
       "      <td>1.048306</td>\n",
       "    </tr>\n",
       "    <tr>\n",
       "      <th>6</th>\n",
       "      <td>0.767156</td>\n",
       "      <td>0.756505</td>\n",
       "      <td>0.863023</td>\n",
       "      <td>0.869773</td>\n",
       "      <td>0.928990</td>\n",
       "      <td>1.342394</td>\n",
       "      <td>1.394305</td>\n",
       "      <td>0.875195</td>\n",
       "      <td>1.180807</td>\n",
       "      <td>0.935519</td>\n",
       "    </tr>\n",
       "    <tr>\n",
       "      <th>7</th>\n",
       "      <td>0.695270</td>\n",
       "      <td>0.682690</td>\n",
       "      <td>0.808487</td>\n",
       "      <td>0.826251</td>\n",
       "      <td>0.899159</td>\n",
       "      <td>0.883165</td>\n",
       "      <td>0.882453</td>\n",
       "      <td>0.889576</td>\n",
       "      <td>0.939390</td>\n",
       "      <td>0.943173</td>\n",
       "    </tr>\n",
       "    <tr>\n",
       "      <th>8</th>\n",
       "      <td>0.630555</td>\n",
       "      <td>0.613783</td>\n",
       "      <td>0.781502</td>\n",
       "      <td>0.783443</td>\n",
       "      <td>0.884026</td>\n",
       "      <td>0.756866</td>\n",
       "      <td>0.749457</td>\n",
       "      <td>0.823551</td>\n",
       "      <td>0.865712</td>\n",
       "      <td>0.907497</td>\n",
       "    </tr>\n",
       "    <tr>\n",
       "      <th>9</th>\n",
       "      <td>0.613864</td>\n",
       "      <td>0.598538</td>\n",
       "      <td>0.751806</td>\n",
       "      <td>0.773652</td>\n",
       "      <td>0.867067</td>\n",
       "      <td>0.658270</td>\n",
       "      <td>0.640566</td>\n",
       "      <td>0.817609</td>\n",
       "      <td>0.800354</td>\n",
       "      <td>0.904217</td>\n",
       "    </tr>\n",
       "  </tbody>\n",
       "</table>\n",
       "</div>"
      ],
      "text/plain": [
       "       loss  main_output_loss  aux_output_loss  \\\n",
       "0  1.801210          1.643891         3.217087   \n",
       "1  1.367509          1.360782         1.428059   \n",
       "2  1.618891          1.635205         1.472063   \n",
       "3  0.901417          0.881998         1.076195   \n",
       "4  0.799726          0.777999         0.995265   \n",
       "5  0.868230          0.864996         0.897339   \n",
       "6  0.767156          0.756505         0.863023   \n",
       "7  0.695270          0.682690         0.808487   \n",
       "8  0.630555          0.613783         0.781502   \n",
       "9  0.613864          0.598538         0.751806   \n",
       "\n",
       "   main_output_root_mean_squared_error  aux_output_root_mean_squared_error  \\\n",
       "0                             1.282143                            1.793624   \n",
       "1                             1.166526                            1.195014   \n",
       "2                             1.278751                            1.213286   \n",
       "3                             0.939147                            1.037398   \n",
       "4                             0.882043                            0.997630   \n",
       "5                             0.930051                            0.947280   \n",
       "6                             0.869773                            0.928990   \n",
       "7                             0.826251                            0.899159   \n",
       "8                             0.783443                            0.884026   \n",
       "9                             0.773652                            0.867067   \n",
       "\n",
       "    val_loss  val_main_output_loss  val_aux_output_loss  \\\n",
       "0   4.250830              4.511605             1.903858   \n",
       "1  53.985397             57.969093            18.132195   \n",
       "2   4.131582              4.446695             1.295568   \n",
       "3   3.631534              3.843328             1.725384   \n",
       "4   2.790921              2.991564             0.985132   \n",
       "5   1.953726              2.048701             1.098946   \n",
       "6   1.342394              1.394305             0.875195   \n",
       "7   0.883165              0.882453             0.889576   \n",
       "8   0.756866              0.749457             0.823551   \n",
       "9   0.658270              0.640566             0.817609   \n",
       "\n",
       "   val_main_output_root_mean_squared_error  \\\n",
       "0                                 2.124054   \n",
       "1                                 7.613744   \n",
       "2                                 2.108719   \n",
       "3                                 1.960441   \n",
       "4                                 1.729614   \n",
       "5                                 1.431328   \n",
       "6                                 1.180807   \n",
       "7                                 0.939390   \n",
       "8                                 0.865712   \n",
       "9                                 0.800354   \n",
       "\n",
       "   val_aux_output_root_mean_squared_error  \n",
       "0                                1.379804  \n",
       "1                                4.258192  \n",
       "2                                1.138230  \n",
       "3                                1.313539  \n",
       "4                                0.992538  \n",
       "5                                1.048306  \n",
       "6                                0.935519  \n",
       "7                                0.943173  \n",
       "8                                0.907497  \n",
       "9                                0.904217  "
      ]
     },
     "execution_count": 7,
     "metadata": {},
     "output_type": "execute_result"
    }
   ],
   "source": [
    "pd.DataFrame(history.history)"
   ]
  },
  {
   "cell_type": "code",
   "execution_count": 8,
   "id": "d894279a",
   "metadata": {},
   "outputs": [
    {
     "name": "stdout",
     "output_type": "stream",
     "text": [
      "162/162 [==============================] - 0s 2ms/step - loss: 0.6153 - main_output_loss: 0.5998 - aux_output_loss: 0.7544 - main_output_root_mean_squared_error: 0.7745 - aux_output_root_mean_squared_error: 0.8686\n"
     ]
    }
   ],
   "source": [
    "re = model.evaluate([x_test_A,x_test_B],[y_test,y_test],return_dict=True)"
   ]
  },
  {
   "cell_type": "code",
   "execution_count": 9,
   "id": "e01817a4",
   "metadata": {},
   "outputs": [
    {
     "data": {
      "text/plain": [
       "{'loss': 0.6152626276016235,\n",
       " 'main_output_loss': 0.5998006463050842,\n",
       " 'aux_output_loss': 0.7544214725494385,\n",
       " 'main_output_root_mean_squared_error': 0.7744680047035217,\n",
       " 'aux_output_root_mean_squared_error': 0.8685743808746338}"
      ]
     },
     "execution_count": 9,
     "metadata": {},
     "output_type": "execute_result"
    }
   ],
   "source": [
    "re"
   ]
  },
  {
   "cell_type": "code",
   "execution_count": 10,
   "id": "1ab1a61c",
   "metadata": {},
   "outputs": [],
   "source": [
    "fashion_mnist = keras.datasets.fashion_mnist.load_data()\n",
    "(X_train_full,Y_train_full),(X_test,Y_test)=fashion_mnist\n",
    "X_train,X_val = X_train_full[:-5000]/255,X_train_full[-5000:]/255\n",
    "Y_train,Y_val = Y_train_full[:-5000],Y_train_full[-5000:]\n",
    "X_test = X_test/255"
   ]
  },
  {
   "cell_type": "code",
   "execution_count": 11,
   "id": "0c4e4e00",
   "metadata": {},
   "outputs": [],
   "source": [
    "class_name = ['T-shit/top','Trouser','Pullover','Dress',\n",
    "             'Coat','Sandal','Shirt','Sneaker','Bag','Ankle boot']"
   ]
  },
  {
   "cell_type": "code",
   "execution_count": 12,
   "id": "1a15f295",
   "metadata": {},
   "outputs": [
    {
     "data": {
      "image/png": "[encoded data removed]",
      "text/plain": [
       "<Figure size 1000x400 with 20 Axes>"
      ]
     },
     "metadata": {},
     "output_type": "display_data"
    }
   ],
   "source": [
    "import matplotlib.pyplot as plt\n",
    "plt.figure(figsize=(10,4))\n",
    "for i in range(20):\n",
    "    plt.subplot(2,10,i+1)\n",
    "    plt.imshow(X_train[i],cmap='binary')\n",
    "    plt.title(class_name[Y_train[i]])\n",
    "    plt.axis('off')\n",
    "plt.tight_layout()\n",
    "plt.show()\n",
    "    "
   ]
  },
  {
   "cell_type": "code",
   "execution_count": 13,
   "id": "6ef66083",
   "metadata": {},
   "outputs": [],
   "source": [
    "def build_model(hp):\n",
    "    learning_rate = hp.Float('lr',min_value=1e-4,max_value=1e-2,sampling='log')\n",
    "    optimizer = hp.Choice('optimizer',values=['sgd','adam'])\n",
    "    if optimizer=='sgd':\n",
    "        optimizer = keras.optimizers.SGD(learning_rate=learning_rate)\n",
    "    else:\n",
    "        optimizer = keras.optimizers.Adam(learning_rate=learning_rate)\n",
    "    model = keras.models.Sequential()\n",
    "    model.add(keras.layers.Flatten(input_shape=[28,28]))\n",
    "    for _ in range(hp.Int('n_hidden',min_value=1,max_value=8,default=2)):\n",
    "        model.add(keras.layers.Dense(hp.Int('n_neurons',min_value=16,max_value=256,step=10),activation='relu'))\n",
    "    model.add(keras.layers.Dense(10,activation='softmax'))\n",
    "    model.compile(loss='sparse_categorical_crossentropy',optimizer=optimizer,metrics=['accuracy'])\n",
    "    return model\n",
    "    \n",
    "        "
   ]
  },
  {
   "cell_type": "code",
   "execution_count": 14,
   "id": "212da799",
   "metadata": {},
   "outputs": [],
   "source": [
    "tuner = kt.RandomSearch(build_model,\n",
    "                        objective='val_accuracy',\n",
    "                        max_trials=5,\n",
    "                        overwrite=True,\n",
    "                        directory='my_fashion',\n",
    "                        project_name='rnd_search_tuner',\n",
    "                       )"
   ]
  },
  {
   "cell_type": "code",
   "execution_count": 15,
   "id": "af3d93c0",
   "metadata": {},
   "outputs": [
    {
     "name": "stdout",
     "output_type": "stream",
     "text": [
      "Trial 5 Complete [00h 00m 48s]\n",
      "val_accuracy: 0.7924000024795532\n",
      "\n",
      "Best val_accuracy So Far: 0.8822000026702881\n",
      "Total elapsed time: 00h 04m 50s\n"
     ]
    }
   ],
   "source": [
    "tuner.search(X_train,Y_train,epochs=10,validation_data=(X_val,Y_val))"
   ]
  },
  {
   "cell_type": "code",
   "execution_count": 16,
   "id": "fee0834e",
   "metadata": {},
   "outputs": [],
   "source": [
    "top3 = tuner.get_best_models(num_models=3)\n",
    "best_model = top3[0]"
   ]
  },
  {
   "cell_type": "code",
   "execution_count": 17,
   "id": "f0c7991f",
   "metadata": {},
   "outputs": [
    {
     "name": "stdout",
     "output_type": "stream",
     "text": [
      "Model: \"sequential\"\n",
      "_________________________________________________________________\n",
      " Layer (type)                Output Shape              Param #   \n",
      "=================================================================\n",
      " flatten (Flatten)           (None, 784)               0         \n",
      "                                                                 \n",
      " dense (Dense)               (None, 66)                51810     \n",
      "                                                                 \n",
      " dense_1 (Dense)             (None, 66)                4422      \n",
      "                                                                 \n",
      " dense_2 (Dense)             (None, 66)                4422      \n",
      "                                                                 \n",
      " dense_3 (Dense)             (None, 66)                4422      \n",
      "                                                                 \n",
      " dense_4 (Dense)             (None, 10)                670       \n",
      "                                                                 \n",
      "=================================================================\n",
      "Total params: 65746 (256.82 KB)\n",
      "Trainable params: 65746 (256.82 KB)\n",
      "Non-trainable params: 0 (0.00 Byte)\n",
      "_________________________________________________________________\n"
     ]
    }
   ],
   "source": [
    "best_model.summary()"
   ]
  },
  {
   "cell_type": "code",
   "execution_count": 18,
   "id": "26baa510",
   "metadata": {},
   "outputs": [
    {
     "data": {
      "text/plain": [
       "{'lr': 0.00019658478253735642,\n",
       " 'optimizer': 'adam',\n",
       " 'n_hidden': 4,\n",
       " 'n_neurons': 66}"
      ]
     },
     "execution_count": 18,
     "metadata": {},
     "output_type": "execute_result"
    }
   ],
   "source": [
    "best_params = tuner.get_best_hyperparameters(num_trials=3)\n",
    "best_params[0].values"
   ]
  },
  {
   "cell_type": "code",
   "execution_count": 19,
   "id": "c838fc88",
   "metadata": {},
   "outputs": [
    {
     "name": "stdout",
     "output_type": "stream",
     "text": [
      "Trial 2 summary\n",
      "Hyperparameters:\n",
      "lr: 0.00019658478253735642\n",
      "optimizer: adam\n",
      "n_hidden: 4\n",
      "n_neurons: 66\n",
      "Score: 0.8822000026702881\n"
     ]
    }
   ],
   "source": [
    "best_trial = tuner.oracle.get_best_trials(num_trials=1)[0]\n",
    "best_trial.summary()"
   ]
  },
  {
   "cell_type": "code",
   "execution_count": 20,
   "id": "e65fb397",
   "metadata": {},
   "outputs": [
    {
     "data": {
      "text/plain": [
       "0.8822000026702881"
      ]
     },
     "execution_count": 20,
     "metadata": {},
     "output_type": "execute_result"
    }
   ],
   "source": [
    "best_trial.metrics.get_last_value('val_accuracy')"
   ]
  },
  {
   "cell_type": "code",
   "execution_count": 21,
   "id": "c4f06b65",
   "metadata": {},
   "outputs": [
    {
     "name": "stdout",
     "output_type": "stream",
     "text": [
      "Epoch 1/100\n",
      "1719/1719 [==============================] - 6s 3ms/step - loss: 0.2908 - accuracy: 0.8933 - val_loss: 0.3533 - val_accuracy: 0.8720\n",
      "Epoch 2/100\n",
      "1719/1719 [==============================] - 4s 3ms/step - loss: 0.2819 - accuracy: 0.8968 - val_loss: 0.3284 - val_accuracy: 0.8782\n",
      "Epoch 3/100\n",
      "1719/1719 [==============================] - 5s 3ms/step - loss: 0.2739 - accuracy: 0.8988 - val_loss: 0.3232 - val_accuracy: 0.8858\n",
      "Epoch 4/100\n",
      "1719/1719 [==============================] - 5s 3ms/step - loss: 0.2698 - accuracy: 0.9003 - val_loss: 0.3215 - val_accuracy: 0.8780\n",
      "Epoch 5/100\n",
      "1719/1719 [==============================] - 5s 3ms/step - loss: 0.2626 - accuracy: 0.9023 - val_loss: 0.3402 - val_accuracy: 0.8744\n",
      "Epoch 6/100\n",
      "1719/1719 [==============================] - 5s 3ms/step - loss: 0.2544 - accuracy: 0.9055 - val_loss: 0.3397 - val_accuracy: 0.8834\n",
      "Epoch 7/100\n",
      "1719/1719 [==============================] - 5s 3ms/step - loss: 0.2503 - accuracy: 0.9070 - val_loss: 0.3239 - val_accuracy: 0.8862\n",
      "Epoch 8/100\n",
      "1719/1719 [==============================] - 4s 3ms/step - loss: 0.2438 - accuracy: 0.9105 - val_loss: 0.3169 - val_accuracy: 0.8858\n",
      "Epoch 9/100\n",
      "1719/1719 [==============================] - 5s 3ms/step - loss: 0.2376 - accuracy: 0.9123 - val_loss: 0.3211 - val_accuracy: 0.8874\n",
      "Epoch 10/100\n",
      "1719/1719 [==============================] - 5s 3ms/step - loss: 0.2322 - accuracy: 0.9128 - val_loss: 0.3192 - val_accuracy: 0.8870\n",
      "Epoch 11/100\n",
      "1719/1719 [==============================] - 5s 3ms/step - loss: 0.2283 - accuracy: 0.9157 - val_loss: 0.3347 - val_accuracy: 0.8862\n",
      "Epoch 12/100\n",
      "1719/1719 [==============================] - 5s 3ms/step - loss: 0.2241 - accuracy: 0.9165 - val_loss: 0.3483 - val_accuracy: 0.8744\n",
      "Epoch 13/100\n",
      "1719/1719 [==============================] - 4s 3ms/step - loss: 0.2197 - accuracy: 0.9178 - val_loss: 0.3433 - val_accuracy: 0.8862\n",
      "Epoch 14/100\n",
      "1719/1719 [==============================] - 4s 3ms/step - loss: 0.2140 - accuracy: 0.9216 - val_loss: 0.3512 - val_accuracy: 0.8830\n",
      "Epoch 15/100\n",
      "1719/1719 [==============================] - 4s 3ms/step - loss: 0.2106 - accuracy: 0.9216 - val_loss: 0.3340 - val_accuracy: 0.8844\n",
      "Epoch 16/100\n",
      "1719/1719 [==============================] - 4s 3ms/step - loss: 0.2061 - accuracy: 0.9230 - val_loss: 0.3368 - val_accuracy: 0.8816\n",
      "Epoch 17/100\n",
      "1719/1719 [==============================] - 5s 3ms/step - loss: 0.2038 - accuracy: 0.9234 - val_loss: 0.3263 - val_accuracy: 0.8898\n",
      "Epoch 18/100\n",
      "1719/1719 [==============================] - 5s 3ms/step - loss: 0.1983 - accuracy: 0.9261 - val_loss: 0.3320 - val_accuracy: 0.8862\n"
     ]
    },
    {
     "data": {
      "text/plain": [
       "<keras.src.callbacks.History at 0x7f895af64fd0>"
      ]
     },
     "execution_count": 21,
     "metadata": {},
     "output_type": "execute_result"
    }
   ],
   "source": [
    "best_model.fit(X_train,Y_train,epochs=100,validation_data=(X_val,Y_val),\n",
    "               callbacks=[keras.callbacks.EarlyStopping(patience=10)])"
   ]
  },
  {
   "cell_type": "code",
   "execution_count": 22,
   "id": "32842953",
   "metadata": {},
   "outputs": [
    {
     "name": "stdout",
     "output_type": "stream",
     "text": [
      "313/313 [==============================] - 1s 2ms/step - loss: 0.3579 - accuracy: 0.8779\n"
     ]
    },
    {
     "data": {
      "text/plain": [
       "{'loss': 0.357944518327713, 'accuracy': 0.8779000043869019}"
      ]
     },
     "execution_count": 22,
     "metadata": {},
     "output_type": "execute_result"
    }
   ],
   "source": [
    "best_model.evaluate(X_test,Y_test,return_dict=True)"
   ]
  },
  {
   "cell_type": "code",
   "execution_count": 23,
   "id": "f8bc7eb2",
   "metadata": {},
   "outputs": [
    {
     "name": "stdout",
     "output_type": "stream",
     "text": [
      "Search space summary\n",
      "Default search space size: 4\n",
      "lr (Float)\n",
      "{'default': 0.0001, 'conditions': [], 'min_value': 0.0001, 'max_value': 0.01, 'step': None, 'sampling': 'log'}\n",
      "optimizer (Choice)\n",
      "{'default': 'sgd', 'conditions': [], 'values': ['sgd', 'adam'], 'ordered': False}\n",
      "n_hidden (Int)\n",
      "{'default': 2, 'conditions': [], 'min_value': 1, 'max_value': 8, 'step': 1, 'sampling': 'linear'}\n",
      "n_neurons (Int)\n",
      "{'default': None, 'conditions': [], 'min_value': 16, 'max_value': 256, 'step': 10, 'sampling': 'linear'}\n"
     ]
    }
   ],
   "source": [
    "tuner.search_space_summary()"
   ]
  },
  {
   "cell_type": "code",
   "execution_count": 24,
   "id": "7ea6e142",
   "metadata": {},
   "outputs": [
    {
     "name": "stdout",
     "output_type": "stream",
     "text": [
      "Results summary\n",
      "Results in my_fashion/rnd_search_tuner\n",
      "Showing 10 best trials\n",
      "Objective(name=\"val_accuracy\", direction=\"max\")\n",
      "\n",
      "Trial 2 summary\n",
      "Hyperparameters:\n",
      "lr: 0.00019658478253735642\n",
      "optimizer: adam\n",
      "n_hidden: 4\n",
      "n_neurons: 66\n",
      "Score: 0.8822000026702881\n",
      "\n",
      "Trial 3 summary\n",
      "Hyperparameters:\n",
      "lr: 0.00022430710093986566\n",
      "optimizer: adam\n",
      "n_hidden: 1\n",
      "n_neurons: 236\n",
      "Score: 0.8822000026702881\n",
      "\n",
      "Trial 0 summary\n",
      "Hyperparameters:\n",
      "lr: 0.0011037170688851822\n",
      "optimizer: adam\n",
      "n_hidden: 5\n",
      "n_neurons: 126\n",
      "Score: 0.8795999884605408\n",
      "\n",
      "Trial 4 summary\n",
      "Hyperparameters:\n",
      "lr: 0.000540388145551427\n",
      "optimizer: sgd\n",
      "n_hidden: 5\n",
      "n_neurons: 76\n",
      "Score: 0.7924000024795532\n",
      "\n",
      "Trial 1 summary\n",
      "Hyperparameters:\n",
      "lr: 0.00046884292239125904\n",
      "optimizer: sgd\n",
      "n_hidden: 8\n",
      "n_neurons: 186\n",
      "Score: 0.7796000242233276\n"
     ]
    }
   ],
   "source": [
    "tuner.results_summary()"
   ]
  },
  {
   "cell_type": "markdown",
   "id": "ce78256d",
   "metadata": {},
   "source": [
    "## To fine-tune data preprocessing hyperparameters,or model.fit() arguments,such as the batch size.\n",
    "-  We must subclass the kt.HyperModel class and define two methods:\n",
    "1. build(). The build() method does the exact same thing as the build_model() function.\n",
    "2. fit(). The fit() method takes a Hyperparameters object and a compiled model as an argument."
   ]
  },
  {
   "cell_type": "code",
   "execution_count": 41,
   "id": "c975f5ca",
   "metadata": {},
   "outputs": [],
   "source": [
    "class MyClfHyperModel(kt.HyperModel):\n",
    "    def build(self,hp):\n",
    "        return build_model(hp)\n",
    "    def fit(self, hp, model,X,y,**kwargs):\n",
    "        if hp.Boolean('normalize'):\n",
    "            norm_layer = keras.layers.Normalization()\n",
    "            X = norm_layer(X)\n",
    "        return model.fit(X,y,**kwargs)"
   ]
  },
  {
   "cell_type": "code",
   "execution_count": 42,
   "id": "f95c2c08",
   "metadata": {},
   "outputs": [],
   "source": [
    "hyperband_tuner = kt.Hyperband(MyClfHyperModel(),\n",
    "                              objective='val_accuracy',\n",
    "                              max_epochs=10,\n",
    "                               factor=3,\n",
    "                               hyperband_iterations=2,\n",
    "                               overwrite=True,\n",
    "                               directory='my_fashion_1',\n",
    "                               project_name='hyperband',\n",
    "                              )"
   ]
  },
  {
   "cell_type": "code",
   "execution_count": 43,
   "id": "8726897d",
   "metadata": {},
   "outputs": [
    {
     "name": "stdout",
     "output_type": "stream",
     "text": [
      "Trial 60 Complete [00h 00m 58s]\n",
      "val_accuracy: 0.8611999750137329\n",
      "\n",
      "Best val_accuracy So Far: 0.8870000243186951\n",
      "Total elapsed time: 01h 26m 37s\n"
     ]
    }
   ],
   "source": [
    "import os\n",
    "root_logdir = os.path.join(os.curdir,hyperband_tuner.project_dir, 'tensorboard')\n",
    "tensor_cb = keras.callbacks.TensorBoard(root_logdir)\n",
    "early_stopping_cb = keras.callbacks.EarlyStopping(patience=2)\n",
    "hyperband_tuner.search(X_train,Y_train,epochs=10,validation_data=(X_val,Y_val),\n",
    "                       callbacks=[early_stopping_cb,tensor_cb])"
   ]
  },
  {
   "cell_type": "code",
   "execution_count": 44,
   "id": "bb4e63ed",
   "metadata": {},
   "outputs": [
    {
     "data": {
      "text/plain": [
       "{'lr': 0.0002551564182173019,\n",
       " 'optimizer': 'adam',\n",
       " 'n_hidden': 8,\n",
       " 'n_neurons': 146,\n",
       " 'normalize': True,\n",
       " 'tuner/epochs': 10,\n",
       " 'tuner/initial_epoch': 4,\n",
       " 'tuner/bracket': 1,\n",
       " 'tuner/round': 1,\n",
       " 'tuner/trial_id': '0023'}"
      ]
     },
     "execution_count": 44,
     "metadata": {},
     "output_type": "execute_result"
    }
   ],
   "source": [
    "top = hyperband_tuner.get_best_hyperparameters(num_trials=3)\n",
    "top[0].values"
   ]
  },
  {
   "cell_type": "code",
   "execution_count": 45,
   "id": "ad120bc3",
   "metadata": {},
   "outputs": [],
   "source": [
    "model3 = hyperband_tuner.get_best_models(num_models=3)\n",
    "best_clf_model = model3[0]"
   ]
  },
  {
   "cell_type": "code",
   "execution_count": 46,
   "id": "afabe34a",
   "metadata": {},
   "outputs": [
    {
     "name": "stdout",
     "output_type": "stream",
     "text": [
      "Epoch 1/100\n",
      "1719/1719 [==============================] - 10s 4ms/step - loss: 0.2511 - accuracy: 0.9057 - val_loss: 0.3266 - val_accuracy: 0.8812\n",
      "Epoch 2/100\n",
      "1719/1719 [==============================] - 8s 4ms/step - loss: 0.2411 - accuracy: 0.9100 - val_loss: 0.3122 - val_accuracy: 0.8896\n",
      "Epoch 3/100\n",
      "1719/1719 [==============================] - 7s 4ms/step - loss: 0.2314 - accuracy: 0.9133 - val_loss: 0.3317 - val_accuracy: 0.8878\n",
      "Epoch 4/100\n",
      "1719/1719 [==============================] - 7s 4ms/step - loss: 0.2231 - accuracy: 0.9167 - val_loss: 0.3504 - val_accuracy: 0.8786\n"
     ]
    },
    {
     "data": {
      "text/plain": [
       "<keras.src.callbacks.History at 0x7f8892808b80>"
      ]
     },
     "execution_count": 46,
     "metadata": {},
     "output_type": "execute_result"
    }
   ],
   "source": [
    "best_clf_model.fit(X_train,Y_train,epochs=100,validation_data=(X_val,Y_val),callbacks=[early_stopping_cb])"
   ]
  },
  {
   "cell_type": "code",
   "execution_count": 47,
   "id": "5feafa4d",
   "metadata": {},
   "outputs": [
    {
     "name": "stdout",
     "output_type": "stream",
     "text": [
      "313/313 [==============================] - 1s 3ms/step - loss: 0.3736 - accuracy: 0.8754\n"
     ]
    },
    {
     "data": {
      "text/plain": [
       "{'loss': 0.37364503741264343, 'accuracy': 0.8754000067710876}"
      ]
     },
     "execution_count": 47,
     "metadata": {},
     "output_type": "execute_result"
    }
   ],
   "source": [
    "best_clf_model.evaluate(X_test,Y_test,return_dict=True)"
   ]
  },
  {
   "cell_type": "code",
   "execution_count": 53,
   "id": "38f0959d",
   "metadata": {},
   "outputs": [
    {
     "data": {
      "text/html": [
       "\n",
       "      <iframe id=\"tensorboard-frame-d17ca7aad15b04f7\" width=\"100%\" height=\"800\" frameborder=\"0\">\n",
       "      </iframe>\n",
       "      <script>\n",
       "        (function() {\n",
       "          const frame = document.getElementById(\"tensorboard-frame-d17ca7aad15b04f7\");\n",
       "          const url = new URL(\"/\", window.location);\n",
       "          const port = 6006;\n",
       "          if (port) {\n",
       "            url.port = port;\n",
       "          }\n",
       "          frame.src = url;\n",
       "        })();\n",
       "      </script>\n",
       "    "
      ],
      "text/plain": [
       "<IPython.core.display.HTML object>"
      ]
     },
     "metadata": {},
     "output_type": "display_data"
    }
   ],
   "source": [
    "%reload_ext tensorboard\n",
    "%tensorboard --logdir=./my_fashion_1/hyperband/tensorboard\n"
   ]
  },
  {
   "cell_type": "code",
   "execution_count": 59,
   "id": "72768566",
   "metadata": {},
   "outputs": [],
   "source": [
    " best_clf_model.save('my_hyperparameter_tuner.keras')"
   ]
  },
  {
   "cell_type": "code",
   "execution_count": 60,
   "id": "6023c70b",
   "metadata": {},
   "outputs": [],
   "source": [
    " best_model.save('my_Random_tuner.keras')"
   ]
  },
  {
   "cell_type": "code",
   "execution_count": 61,
   "id": "afc353e6",
   "metadata": {},
   "outputs": [
    {
     "name": "stdout",
     "output_type": "stream",
     "text": [
      "Model: \"sequential\"\n",
      "_________________________________________________________________\n",
      " Layer (type)                Output Shape              Param #   \n",
      "=================================================================\n",
      " flatten (Flatten)           (None, 784)               0         \n",
      "                                                                 \n",
      " dense (Dense)               (None, 66)                51810     \n",
      "                                                                 \n",
      " dense_1 (Dense)             (None, 66)                4422      \n",
      "                                                                 \n",
      " dense_2 (Dense)             (None, 66)                4422      \n",
      "                                                                 \n",
      " dense_3 (Dense)             (None, 66)                4422      \n",
      "                                                                 \n",
      " dense_4 (Dense)             (None, 10)                670       \n",
      "                                                                 \n",
      "=================================================================\n",
      "Total params: 65746 (256.82 KB)\n",
      "Trainable params: 65746 (256.82 KB)\n",
      "Non-trainable params: 0 (0.00 Byte)\n",
      "_________________________________________________________________\n"
     ]
    }
   ],
   "source": [
    "best_model.summary()"
   ]
  },
  {
   "cell_type": "code",
   "execution_count": 62,
   "id": "dc480323",
   "metadata": {},
   "outputs": [
    {
     "name": "stdout",
     "output_type": "stream",
     "text": [
      "Model: \"sequential\"\n",
      "_________________________________________________________________\n",
      " Layer (type)                Output Shape              Param #   \n",
      "=================================================================\n",
      " flatten (Flatten)           (None, 784)               0         \n",
      "                                                                 \n",
      " dense (Dense)               (None, 146)               114610    \n",
      "                                                                 \n",
      " dense_1 (Dense)             (None, 146)               21462     \n",
      "                                                                 \n",
      " dense_2 (Dense)             (None, 146)               21462     \n",
      "                                                                 \n",
      " dense_3 (Dense)             (None, 146)               21462     \n",
      "                                                                 \n",
      " dense_4 (Dense)             (None, 146)               21462     \n",
      "                                                                 \n",
      " dense_5 (Dense)             (None, 146)               21462     \n",
      "                                                                 \n",
      " dense_6 (Dense)             (None, 146)               21462     \n",
      "                                                                 \n",
      " dense_7 (Dense)             (None, 146)               21462     \n",
      "                                                                 \n",
      " dense_8 (Dense)             (None, 10)                1470      \n",
      "                                                                 \n",
      "=================================================================\n",
      "Total params: 266314 (1.02 MB)\n",
      "Trainable params: 266314 (1.02 MB)\n",
      "Non-trainable params: 0 (0.00 Byte)\n",
      "_________________________________________________________________\n"
     ]
    }
   ],
   "source": [
    "best_clf_model.summary()"
   ]
  },
  {
   "cell_type": "code",
   "execution_count": null,
   "id": "9634b0aa",
   "metadata": {},
   "outputs": [],
   "source": []
  }
 ],
 "metadata": {
  "kernelspec": {
   "display_name": "Python 3 (ipykernel)",
   "language": "python",
   "name": "python3"
  },
  "language_info": {
   "codemirror_mode": {
    "name": "ipython",
    "version": 3
   },
   "file_extension": ".py",
   "mimetype": "text/x-python",
   "name": "python",
   "nbconvert_exporter": "python",
   "pygments_lexer": "ipython3",
   "version": "3.10.9"
  }
 },
 "nbformat": 4,
 "nbformat_minor": 5
}
