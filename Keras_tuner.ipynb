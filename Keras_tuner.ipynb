{
 "cells": [
  {
   "cell_type": "code",
   "execution_count": 1,
   "id": "668ef9e0",
   "metadata": {},
   "outputs": [
    {
     "name": "stdout",
     "output_type": "stream",
     "text": [
      "Trial 5 Complete [00h 00m 08s]\n",
      "val_out_a_mae: 0.2617969314257304\n",
      "\n",
      "Best val_out_a_mae So Far: 0.25833870967229206\n",
      "Total elapsed time: 00h 00m 40s\n",
      "INFO:tensorflow:Oracle triggered exit\n",
      "Epoch 1/10\n",
      "25/25 [==============================] - 2s 16ms/step - loss: 0.2681 - out_a_loss: 0.1530 - out_b_loss: 0.1151 - out_a_mae: 0.3176 - out_b_mae: 0.2777 - val_loss: 0.2143 - val_out_a_loss: 0.1031 - val_out_b_loss: 0.1112 - val_out_a_mae: 0.2675 - val_out_b_mae: 0.2813\n",
      "Epoch 2/10\n",
      "25/25 [==============================] - 0s 5ms/step - loss: 0.1843 - out_a_loss: 0.0893 - out_b_loss: 0.0950 - out_a_mae: 0.2476 - out_b_mae: 0.2557 - val_loss: 0.1912 - val_out_a_loss: 0.0958 - val_out_b_loss: 0.0955 - val_out_a_mae: 0.2582 - val_out_b_mae: 0.2606\n",
      "Epoch 3/10\n",
      "25/25 [==============================] - 0s 4ms/step - loss: 0.1715 - out_a_loss: 0.0825 - out_b_loss: 0.0890 - out_a_mae: 0.2418 - out_b_mae: 0.2505 - val_loss: 0.1922 - val_out_a_loss: 0.0928 - val_out_b_loss: 0.0994 - val_out_a_mae: 0.2606 - val_out_b_mae: 0.2676\n",
      "Epoch 4/10\n",
      "25/25 [==============================] - 0s 4ms/step - loss: 0.1651 - out_a_loss: 0.0841 - out_b_loss: 0.0810 - out_a_mae: 0.2407 - out_b_mae: 0.2384 - val_loss: 0.2057 - val_out_a_loss: 0.1030 - val_out_b_loss: 0.1027 - val_out_a_mae: 0.2679 - val_out_b_mae: 0.2731\n",
      "Epoch 5/10\n",
      "25/25 [==============================] - 0s 4ms/step - loss: 0.1626 - out_a_loss: 0.0810 - out_b_loss: 0.0816 - out_a_mae: 0.2397 - out_b_mae: 0.2443 - val_loss: 0.2070 - val_out_a_loss: 0.1054 - val_out_b_loss: 0.1016 - val_out_a_mae: 0.2690 - val_out_b_mae: 0.2707\n",
      "Epoch 6/10\n",
      "25/25 [==============================] - 0s 4ms/step - loss: 0.1562 - out_a_loss: 0.0767 - out_b_loss: 0.0795 - out_a_mae: 0.2314 - out_b_mae: 0.2381 - val_loss: 0.2048 - val_out_a_loss: 0.1012 - val_out_b_loss: 0.1036 - val_out_a_mae: 0.2674 - val_out_b_mae: 0.2714\n",
      "Epoch 7/10\n",
      "25/25 [==============================] - 0s 4ms/step - loss: 0.1539 - out_a_loss: 0.0796 - out_b_loss: 0.0743 - out_a_mae: 0.2356 - out_b_mae: 0.2309 - val_loss: 0.2021 - val_out_a_loss: 0.0988 - val_out_b_loss: 0.1033 - val_out_a_mae: 0.2643 - val_out_b_mae: 0.2666\n",
      "Epoch 8/10\n",
      "25/25 [==============================] - 0s 4ms/step - loss: 0.1579 - out_a_loss: 0.0792 - out_b_loss: 0.0787 - out_a_mae: 0.2320 - out_b_mae: 0.2372 - val_loss: 0.2175 - val_out_a_loss: 0.1100 - val_out_b_loss: 0.1076 - val_out_a_mae: 0.2764 - val_out_b_mae: 0.2778\n",
      "Epoch 9/10\n",
      "25/25 [==============================] - 0s 3ms/step - loss: 0.1481 - out_a_loss: 0.0744 - out_b_loss: 0.0737 - out_a_mae: 0.2281 - out_b_mae: 0.2291 - val_loss: 0.2011 - val_out_a_loss: 0.1012 - val_out_b_loss: 0.0998 - val_out_a_mae: 0.2675 - val_out_b_mae: 0.2679\n",
      "Epoch 10/10\n",
      "25/25 [==============================] - 0s 4ms/step - loss: 0.1451 - out_a_loss: 0.0719 - out_b_loss: 0.0732 - out_a_mae: 0.2240 - out_b_mae: 0.2276 - val_loss: 0.2488 - val_out_a_loss: 0.1305 - val_out_b_loss: 0.1183 - val_out_a_mae: 0.2954 - val_out_b_mae: 0.2851\n"
     ]
    }
   ],
   "source": [
    "import numpy as np\n",
    "import tensorflow as tf\n",
    "from tensorflow import keras\n",
    "from keras_tuner import RandomSearch\n",
    "import keras_tuner as kt\n",
    "\n",
    "# Sample data\n",
    "input1 = np.random.rand(1000, 8)\n",
    "input2 = np.random.rand(1000, 8)\n",
    "output1 = np.random.rand(1000, 1)\n",
    "output2 = np.random.rand(1000, 1)\n",
    "\n",
    "# Model definition with Normalization layers\n",
    "def build_model(hp):\n",
    "    input_a = keras.layers.Input(shape=(8,), name='input_a')\n",
    "    normalized_a = keras.layers.Normalization()(input_a)\n",
    "\n",
    "    input_b = keras.layers.Input(shape=(8,), name='input_b')\n",
    "    normalized_b = keras.layers.Normalization()(input_b)\n",
    "\n",
    "    x1 = keras.layers.Dense(units=hp.Int('dense_1_units', min_value=32, max_value=128, step=32), activation='relu')(normalized_a)\n",
    "    x2 = keras.layers.Dense(units=hp.Int('dense_2_units', min_value=32, max_value=128, step=32), activation='relu')(normalized_b)\n",
    "    \n",
    "    merged = keras.layers.concatenate([x1, x2])\n",
    "    out_a = keras.layers.Dense(1, name='out_a')(merged)\n",
    "    out_b = keras.layers.Dense(1, name='out_b')(merged)\n",
    "\n",
    "    model = keras.models.Model(inputs=[input_a, input_b], outputs=[out_a, out_b])\n",
    "    model.compile(optimizer=keras.optimizers.Adam(hp.Choice('learning_rate', [1e-2, 1e-3, 1e-4])),\n",
    "                  loss={'out_a': 'mse', 'out_b': 'mse'},\n",
    "                  metrics={'out_a': 'mae', 'out_b': 'mae'})\n",
    "    return model\n",
    "\n",
    "# Keras Tuner setup\n",
    "tuner = RandomSearch(\n",
    "    build_model,\n",
    "    objective=kt.Objective(\"val_out_a_mae\", direction=\"min\"),\n",
    "    overwrite=True,\n",
    "    max_trials=5,\n",
    "    executions_per_trial=3,\n",
    "    directory='output_dir',\n",
    "    project_name='keras_tuner_example'\n",
    ")\n",
    "\n",
    "# Search for the best hyperparameters\n",
    "tuner.search([input1, input2], [output1, output2], epochs=5, validation_split=0.2)\n",
    "\n",
    "# Retrieve the best model\n",
    "best_model = tuner.get_best_models(num_models=1)[0]\n",
    "\n",
    "# Adapt the normalization layers in the best model\n",
    "normalization_layer_a = best_model.get_layer(name='normalization')  # Note: Keras automatically appends an index to the layer name\n",
    "normalization_layer_a.adapt(input1)\n",
    "\n",
    "normalization_layer_b = best_model.get_layer(name='normalization_1')\n",
    "normalization_layer_b.adapt(input2)\n",
    "\n",
    "# Fit the best model to the data\n",
    "history = best_model.fit([input1, input2], [output1, output2], epochs=10, validation_split=0.2)\n"
   ]
  },
  {
   "cell_type": "code",
   "execution_count": 2,
   "id": "a49d07e9",
   "metadata": {},
   "outputs": [],
   "source": [
    "from keras.datasets import fashion_mnist"
   ]
  },
  {
   "cell_type": "code",
   "execution_count": 3,
   "id": "41847c30",
   "metadata": {},
   "outputs": [],
   "source": [
    "(x_train_full,y_train_full),(x_test,y_test) = fashion_mnist.load_data()"
   ]
  },
  {
   "cell_type": "code",
   "execution_count": 4,
   "id": "015e2462",
   "metadata": {},
   "outputs": [],
   "source": [
    "x_train,x_val = x_train_full[5000:]/255,x_train_full[:5000]/255"
   ]
  },
  {
   "cell_type": "code",
   "execution_count": 5,
   "id": "89ee1877",
   "metadata": {},
   "outputs": [],
   "source": [
    "y_train,y_val = y_train_full[5000:],y_train_full[:5000]"
   ]
  },
  {
   "cell_type": "code",
   "execution_count": 6,
   "id": "bb0b56cc",
   "metadata": {},
   "outputs": [],
   "source": [
    "def build_mod(hp):\n",
    "    input_ = keras.layers.Input(shape=[28,28])\n",
    "    flatten= keras.layers.Flatten()(input_)\n",
    "    hidden1=keras.layers.Dense(units=hp.Int('dense_1',min_value=30,max_value=300,step=30),activation='relu')(flatten)\n",
    "    hidden2=keras.layers.Dense(units=hp.Int('dense_2',min_value=30,max_value=300,step=30),activation='relu')(hidden1)\n",
    "    output = keras.layers.Dense(10,activation='softmax')(hidden2)\n",
    "    optimizer = hp.Choice('optimizer',values=['sgd','adam'])\n",
    "  \n",
    "    if optimizer =='sgd':\n",
    "        optimizer = keras.optimizers.SGD(hp.Choice('learning_rate', values=[1e-2, 1e-3, 1e-4]))\n",
    "    else:\n",
    "        optimizer=keras.optimizers.Adam(hp.Choice('learning_rate', values=[1e-2, 1e-3, 1e-4]))\n",
    "    model = keras.Model(inputs=[input_],outputs=[output])\n",
    "    model.compile(loss='sparse_categorical_crossentropy',\n",
    "                 optimizer = optimizer,\n",
    "                 metrics=['accuracy'])\n",
    "    return model\n",
    "    \n",
    "    \n",
    "    "
   ]
  },
  {
   "cell_type": "code",
   "execution_count": 7,
   "id": "c9fed025",
   "metadata": {},
   "outputs": [],
   "source": [
    "tuner = kt.RandomSearch(build_mod,\n",
    "                     objective='val_accuracy',\n",
    "                     overwrite=True,\n",
    "                     max_trials=5,\n",
    "                     executions_per_trial=3,\n",
    "                     directory='output_diry',\n",
    "                     project_name='keras_tuner_example_1',\n",
    "                    )"
   ]
  },
  {
   "cell_type": "code",
   "execution_count": null,
   "id": "58a40823",
   "metadata": {},
   "outputs": [
    {
     "name": "stdout",
     "output_type": "stream",
     "text": [
      "Trial 4 Complete [00h 03m 20s]\n",
      "val_accuracy: 0.8891333142916361\n",
      "\n",
      "Best val_accuracy So Far: 0.8891333142916361\n",
      "Total elapsed time: 00h 11m 30s\n",
      "\n",
      "Search: Running Trial #5\n",
      "\n",
      "Value             |Best Value So Far |Hyperparameter\n",
      "120               |300               |dense_1\n",
      "270               |90                |dense_2\n",
      "sgd               |adam              |optimizer\n",
      "0.01              |0.0001            |learning_rate\n",
      "\n",
      "Epoch 1/10\n",
      "1719/1719 [==============================] - 5s 3ms/step - loss: 0.7829 - accuracy: 0.7417 - val_loss: 0.5440 - val_accuracy: 0.8178\n",
      "Epoch 2/10\n",
      "1719/1719 [==============================] - 5s 3ms/step - loss: 0.5075 - accuracy: 0.8244 - val_loss: 0.4935 - val_accuracy: 0.8304\n",
      "Epoch 3/10\n",
      "1719/1719 [==============================] - 5s 3ms/step - loss: 0.4599 - accuracy: 0.8386 - val_loss: 0.4377 - val_accuracy: 0.8472\n",
      "Epoch 4/10\n",
      "1719/1719 [==============================] - 4s 2ms/step - loss: 0.4323 - accuracy: 0.8480 - val_loss: 0.4347 - val_accuracy: 0.8476\n",
      "Epoch 5/10\n",
      "1719/1719 [==============================] - 4s 2ms/step - loss: 0.4127 - accuracy: 0.8559 - val_loss: 0.4359 - val_accuracy: 0.8498\n",
      "Epoch 6/10\n",
      "1719/1719 [==============================] - 4s 2ms/step - loss: 0.3970 - accuracy: 0.8602 - val_loss: 0.3915 - val_accuracy: 0.8668\n",
      "Epoch 7/10\n",
      "1418/1719 [=======================>......] - ETA: 0s - loss: 0.3850 - accuracy: 0.8648"
     ]
    }
   ],
   "source": [
    "tuner.search(x_train,y_train,epochs=10,validation_data=(x_val,y_val))"
   ]
  },
  {
   "cell_type": "code",
   "execution_count": null,
   "id": "e54178a0",
   "metadata": {},
   "outputs": [],
   "source": [
    "top3_params = tuner.get_best_hyperparameters(num_trials=3)\n"
   ]
  },
  {
   "cell_type": "code",
   "execution_count": null,
   "id": "821146a4",
   "metadata": {},
   "outputs": [],
   "source": [
    "top3_params[0].values"
   ]
  },
  {
   "cell_type": "code",
   "execution_count": null,
   "id": "268766b7",
   "metadata": {},
   "outputs": [],
   "source": [
    "top3_model = tuner.get_best_models(num_models=3)\n",
    "best_model = top3_model[0]\n"
   ]
  },
  {
   "cell_type": "code",
   "execution_count": null,
   "id": "4986e7a6",
   "metadata": {},
   "outputs": [],
   "source": [
    "best_trial = tuner.oracle.get_best_trials(num_trials=1)[0]\n",
    "best_trial.summary()"
   ]
  },
  {
   "cell_type": "code",
   "execution_count": null,
   "id": "a11dd39c",
   "metadata": {},
   "outputs": [],
   "source": [
    "h = best_model.fit(x_train,y_train,epochs=10,validation_data=(x_val,y_val))"
   ]
  },
  {
   "cell_type": "code",
   "execution_count": null,
   "id": "76a72ac0",
   "metadata": {},
   "outputs": [],
   "source": [
    "import pandas as pd\n",
    "dd = pd.DataFrame(h.history)"
   ]
  },
  {
   "cell_type": "code",
   "execution_count": null,
   "id": "114d01fc",
   "metadata": {},
   "outputs": [],
   "source": [
    "dd\n"
   ]
  },
  {
   "cell_type": "code",
   "execution_count": null,
   "id": "78839103",
   "metadata": {},
   "outputs": [],
   "source": [
    "best_model.evaluate(x_test,y_test)"
   ]
  },
  {
   "cell_type": "code",
   "execution_count": null,
   "id": "0635e7f0",
   "metadata": {},
   "outputs": [],
   "source": []
  }
 ],
 "metadata": {
  "kernelspec": {
   "display_name": "Python 3 (ipykernel)",
   "language": "python",
   "name": "python3"
  },
  "language_info": {
   "codemirror_mode": {
    "name": "ipython",
    "version": 3
   },
   "file_extension": ".py",
   "mimetype": "text/x-python",
   "name": "python",
   "nbconvert_exporter": "python",
   "pygments_lexer": "ipython3",
   "version": "3.10.9"
  }
 },
 "nbformat": 4,
 "nbformat_minor": 5
}
