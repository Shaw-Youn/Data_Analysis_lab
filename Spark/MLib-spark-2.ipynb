{
 "cells": [
  {
   "cell_type": "code",
   "execution_count": 1,
   "id": "6e9fad0c",
   "metadata": {},
   "outputs": [],
   "source": [
    "import pandas as pd\n",
    "import numpy as np\n",
    "from pyspark.sql import SparkSession\n",
    "from pyspark.sql .functions import *\n",
    "from pyspark.sql.types import *\n",
    "from pyspark.ml.feature import StringIndexer, OneHotEncoder, VectorAssembler\n",
    "from pyspark.ml.regression import LinearRegression\n",
    "from pyspark.ml import Pipeline"
   ]
  },
  {
   "cell_type": "code",
   "execution_count": 2,
   "id": "725f7199",
   "metadata": {},
   "outputs": [
    {
     "name": "stderr",
     "output_type": "stream",
     "text": [
      "Setting default log level to \"WARN\".\n",
      "To adjust logging level use sc.setLogLevel(newLevel). For SparkR, use setLogLevel(newLevel).\n",
      "24/08/08 20:46:33 WARN NativeCodeLoader: Unable to load native-hadoop library for your platform... using builtin-java classes where applicable\n"
     ]
    }
   ],
   "source": [
    "spark = SparkSession.builder\\\n",
    "         .appName('spark-ml')\\\n",
    "         .getOrCreate()"
   ]
  },
  {
   "cell_type": "code",
   "execution_count": 3,
   "id": "1065fb58",
   "metadata": {},
   "outputs": [
    {
     "name": "stderr",
     "output_type": "stream",
     "text": [
      "                                                                                \r"
     ]
    }
   ],
   "source": [
    "df = spark.read.parquet('/Users/xwyang/Desktop/sf-airbnb')"
   ]
  },
  {
   "cell_type": "code",
   "execution_count": 4,
   "id": "c4356e36",
   "metadata": {},
   "outputs": [],
   "source": [
    "trainDF,testDF = df.randomSplit([0.8,0.2],seed=42)"
   ]
  },
  {
   "cell_type": "code",
   "execution_count": 5,
   "id": "ba19b99d",
   "metadata": {},
   "outputs": [],
   "source": [
    "numericCols = [field for (field,datatype) in df.dtypes if ((datatype=='double')& (field !='price'))]"
   ]
  },
  {
   "cell_type": "code",
   "execution_count": 6,
   "id": "5617f26a",
   "metadata": {},
   "outputs": [],
   "source": [
    "veAss = VectorAssembler(inputCols=numericCols,outputCol='features')"
   ]
  },
  {
   "cell_type": "code",
   "execution_count": 7,
   "id": "e4556f1b",
   "metadata": {},
   "outputs": [],
   "source": [
    "lr = LinearRegression(featuresCol='features',labelCol='price',regParam=0.2)"
   ]
  },
  {
   "cell_type": "code",
   "execution_count": 8,
   "id": "2e0252c2",
   "metadata": {},
   "outputs": [
    {
     "name": "stderr",
     "output_type": "stream",
     "text": [
      "24/08/08 20:46:47 WARN InstanceBuilder: Failed to load implementation from:dev.ludovic.netlib.blas.JNIBLAS\n",
      "24/08/08 20:46:47 WARN InstanceBuilder: Failed to load implementation from:dev.ludovic.netlib.lapack.JNILAPACK\n"
     ]
    }
   ],
   "source": [
    "pipe = Pipeline(stages=[veAss,lr])\n",
    "pipeModel = pipe.fit(trainDF)"
   ]
  },
  {
   "cell_type": "code",
   "execution_count": 9,
   "id": "ed848581",
   "metadata": {},
   "outputs": [],
   "source": [
    "predDF = pipeModel.transform(testDF)"
   ]
  },
  {
   "cell_type": "code",
   "execution_count": 10,
   "id": "cbdce915",
   "metadata": {},
   "outputs": [
    {
     "name": "stderr",
     "output_type": "stream",
     "text": [
      "24/08/08 20:46:49 WARN SparkStringUtils: Truncated the string representation of a plan since it was too large. This behavior can be adjusted by setting 'spark.sql.debug.maxToStringFields'.\n"
     ]
    },
    {
     "name": "stdout",
     "output_type": "stream",
     "text": [
      "+--------------------+-----+------------------+\n",
      "|            features|price|        prediction|\n",
      "+--------------------+-----+------------------+\n",
      "|(26,[0,1,2,3,4,5,...| 85.0| 64.06473306263797|\n",
      "|[1.0,37.78707,-12...| 85.0|175.81872773235227|\n",
      "|(26,[0,1,2,3,4,5,...| 85.0|111.02067469614485|\n",
      "|(26,[0,1,2,3,4,5,...| 85.0|61.926021194143686|\n",
      "|(26,[0,1,2,3,4,5,...| 85.0| 176.6102637444128|\n",
      "|[2.0,37.74083,-12...| 85.0|130.33326983338702|\n",
      "|(26,[0,1,2,3,4,5,...| 85.0|142.82943079762845|\n",
      "|(26,[0,1,2,3,4,5,...| 85.0|37.011700249691785|\n",
      "|(26,[0,1,2,3,4,5,...| 85.0|3.3970729783504794|\n",
      "|(26,[0,1,2,3,4,5,...| 85.0| 138.3092162393841|\n",
      "+--------------------+-----+------------------+\n",
      "only showing top 10 rows\n",
      "\n"
     ]
    }
   ],
   "source": [
    "predDF.select('features','price','prediction').where(col('price')==85.0).show(10)"
   ]
  },
  {
   "cell_type": "code",
   "execution_count": 11,
   "id": "8178ee68",
   "metadata": {},
   "outputs": [],
   "source": [
    "categoryCols = [y for (y,datatype) in df.dtypes if datatype=='string']\n",
    "categoryindex = [y+'Index' for y in categoryCols]\n",
    "oheIndex = [y+'OHE' for y in categoryCols]"
   ]
  },
  {
   "cell_type": "code",
   "execution_count": 12,
   "id": "a2fa858d",
   "metadata": {},
   "outputs": [],
   "source": [
    "stringIndex = StringIndexer(inputCols=categoryCols,outputCols=categoryindex,handleInvalid='skip')"
   ]
  },
  {
   "cell_type": "code",
   "execution_count": 13,
   "id": "2a2f9885",
   "metadata": {},
   "outputs": [],
   "source": [
    "oheEncoder = OneHotEncoder(inputCols=categoryindex,outputCols=oheIndex)"
   ]
  },
  {
   "cell_type": "code",
   "execution_count": 14,
   "id": "ea413167",
   "metadata": {},
   "outputs": [],
   "source": [
    "assInputs = oheIndex + numericCols"
   ]
  },
  {
   "cell_type": "code",
   "execution_count": 15,
   "id": "e3e217c0",
   "metadata": {},
   "outputs": [],
   "source": [
    "assVect = VectorAssembler(inputCols=assInputs,outputCol='features')"
   ]
  },
  {
   "cell_type": "code",
   "execution_count": 16,
   "id": "de006f06",
   "metadata": {},
   "outputs": [
    {
     "name": "stderr",
     "output_type": "stream",
     "text": [
      "                                                                                \r"
     ]
    }
   ],
   "source": [
    "pipeline = Pipeline(stages=[stringIndex,oheEncoder,assVect,lr])\n",
    "pModel = pipeline.fit(trainDF)"
   ]
  },
  {
   "cell_type": "code",
   "execution_count": 17,
   "id": "baaad4ac",
   "metadata": {},
   "outputs": [],
   "source": [
    "preDF = pModel.transform(testDF)"
   ]
  },
  {
   "cell_type": "code",
   "execution_count": 18,
   "id": "34c05bed",
   "metadata": {},
   "outputs": [
    {
     "data": {
      "text/plain": [
       "20"
      ]
     },
     "execution_count": 18,
     "metadata": {},
     "output_type": "execute_result"
    }
   ],
   "source": [
    "preDF.select('features','price','prediction').where(col('price')==85.0).count()"
   ]
  },
  {
   "cell_type": "code",
   "execution_count": 19,
   "id": "c8f3f339",
   "metadata": {},
   "outputs": [
    {
     "data": {
      "text/plain": [
       "20"
      ]
     },
     "execution_count": 19,
     "metadata": {},
     "output_type": "execute_result"
    }
   ],
   "source": [
    "predDF.select('features','price','prediction').where(col('price')==85.0).count()"
   ]
  },
  {
   "cell_type": "code",
   "execution_count": 20,
   "id": "738fc03d",
   "metadata": {},
   "outputs": [
    {
     "name": "stdout",
     "output_type": "stream",
     "text": [
      "+--------------------+-----+------------------+\n",
      "|            features|price|        prediction|\n",
      "+--------------------+-----+------------------+\n",
      "|(26,[0,1,2,3,4,5,...| 85.0| 64.06473306263797|\n",
      "|[1.0,37.78707,-12...| 85.0|175.81872773235227|\n",
      "|(26,[0,1,2,3,4,5,...| 85.0|111.02067469614485|\n",
      "|(26,[0,1,2,3,4,5,...| 85.0|61.926021194143686|\n",
      "|(26,[0,1,2,3,4,5,...| 85.0| 176.6102637444128|\n",
      "|[2.0,37.74083,-12...| 85.0|130.33326983338702|\n",
      "|(26,[0,1,2,3,4,5,...| 85.0|142.82943079762845|\n",
      "|(26,[0,1,2,3,4,5,...| 85.0|37.011700249691785|\n",
      "|(26,[0,1,2,3,4,5,...| 85.0|3.3970729783504794|\n",
      "|(26,[0,1,2,3,4,5,...| 85.0| 138.3092162393841|\n",
      "|(26,[0,1,2,3,4,6,...| 85.0|-2.871833320503356|\n",
      "|(26,[0,1,2,3,4,5,...| 85.0|173.68417039416454|\n",
      "|[7.0,37.78555,-12...| 85.0|140.54682232525738|\n",
      "|(26,[0,1,2,3,4,5,...| 85.0|57.241592022830446|\n",
      "|(26,[0,1,2,3,4,6,...| 85.0|  88.3742227207913|\n",
      "|(26,[0,1,2,3,4,5,...| 85.0|146.47494780067063|\n",
      "|(26,[0,1,2,3,4,5,...| 85.0| 97.87276831762938|\n",
      "|(26,[0,1,2,3,4,5,...| 85.0|259.41438836087036|\n",
      "|(26,[0,1,2,3,4,5,...| 85.0|58.596936532016116|\n",
      "|(26,[0,1,2,3,4,5,...| 85.0| 66.89182987832464|\n",
      "+--------------------+-----+------------------+\n",
      "\n"
     ]
    }
   ],
   "source": [
    "predDF.select('features','price','prediction').where(col('price')==85.0).show(20)"
   ]
  },
  {
   "cell_type": "code",
   "execution_count": 21,
   "id": "9fa363a8",
   "metadata": {},
   "outputs": [
    {
     "name": "stdout",
     "output_type": "stream",
     "text": [
      "+--------------------+-----+------------------+\n",
      "|            features|price|        prediction|\n",
      "+--------------------+-----+------------------+\n",
      "|(98,[0,3,6,22,43,...| 85.0|  59.4702073803648|\n",
      "|(98,[0,3,6,9,44,6...| 85.0| 203.3387047639448|\n",
      "|(98,[0,3,6,35,43,...| 85.0|  92.8171582776722|\n",
      "|(98,[0,3,37,43,67...| 85.0| 71.45455819377116|\n",
      "|(98,[0,2,11,44,67...| 85.0|205.16452145881692|\n",
      "|(98,[0,2,29,43,67...| 85.0|178.05038858991665|\n",
      "|(98,[0,1,6,10,47,...| 85.0|101.15228188589174|\n",
      "|(98,[0,1,6,15,43,...| 85.0| 8.507313719200909|\n",
      "|(98,[0,1,6,13,42,...| 85.0|2.1055975784091743|\n",
      "|(98,[0,1,6,13,42,...| 85.0| 116.0316436110212|\n",
      "|(98,[0,1,6,7,42,6...| 85.0| 58.20399383738885|\n",
      "|(98,[0,1,24,43,67...| 85.0|151.89176341505964|\n",
      "|(98,[0,1,9,42,66,...| 85.0|158.99427028600306|\n",
      "|(98,[0,4,6,12,43,...| 85.0|31.840548346108562|\n",
      "|(98,[0,4,6,26,42,...| 85.0|-40.38156117120593|\n",
      "|(98,[3,20,43,67,6...| 85.0|131.77360216620644|\n",
      "|(98,[2,6,24,45,66...| 85.0|129.21529623668704|\n",
      "|(98,[2,6,17,43,67...| 85.0|208.24525053305348|\n",
      "|(98,[2,24,43,67,6...| 85.0|62.422703862158585|\n",
      "|(98,[1,6,7,45,67,...| 85.0|  68.7528696288831|\n",
      "+--------------------+-----+------------------+\n",
      "\n"
     ]
    }
   ],
   "source": [
    "preDF.select('features','price','prediction').where(col('price')==85.0).show(20)"
   ]
  },
  {
   "cell_type": "code",
   "execution_count": 22,
   "id": "b8eb5409",
   "metadata": {},
   "outputs": [
    {
     "name": "stdout",
     "output_type": "stream",
     "text": [
      "+---------------+--------------+--------------------+--------------------+-----+------------------+\n",
      "|      room_type|room_typeIndex|host_is_superhostOHE|            features|price|        prediction|\n",
      "+---------------+--------------+--------------------+--------------------+-----+------------------+\n",
      "|Entire home/apt|           0.0|       (1,[0],[1.0])|(98,[0,3,6,22,43,...| 85.0|  59.4702073803648|\n",
      "|   Private room|           1.0|       (1,[0],[1.0])|(98,[0,3,6,22,43,...| 45.0|26.087910872442023|\n",
      "|   Private room|           1.0|       (1,[0],[1.0])|(98,[0,3,6,22,43,...| 70.0| 30.62218454249188|\n",
      "|   Private room|           1.0|       (1,[0],[1.0])|(98,[0,3,6,12,42,...|128.0|-92.16468853100145|\n",
      "|   Private room|           1.0|       (1,[0],[1.0])|(98,[0,3,6,12,43,...|159.0| 94.25964568378333|\n",
      "+---------------+--------------+--------------------+--------------------+-----+------------------+\n",
      "only showing top 5 rows\n",
      "\n"
     ]
    }
   ],
   "source": [
    "preDF.select('room_type','room_typeIndex',\n",
    " 'host_is_superhostOHE','features','price','prediction').show(5)"
   ]
  },
  {
   "cell_type": "code",
   "execution_count": 23,
   "id": "5618efcf",
   "metadata": {},
   "outputs": [],
   "source": [
    "from pyspark.ml.feature import RFormula"
   ]
  },
  {
   "cell_type": "code",
   "execution_count": 24,
   "id": "177f73d0",
   "metadata": {},
   "outputs": [],
   "source": [
    "rFormula = RFormula(formula='price ~ .',\n",
    "                   featuresCol='features',\n",
    "                   labelCol='price',\n",
    "                   handleInvalid='skip')"
   ]
  },
  {
   "cell_type": "code",
   "execution_count": 25,
   "id": "ec3bf111",
   "metadata": {},
   "outputs": [
    {
     "name": "stderr",
     "output_type": "stream",
     "text": [
      "                                                                                \r"
     ]
    }
   ],
   "source": [
    "pp = Pipeline(stages=[rFormula,lr])\n",
    "ppModel = pp.fit(trainDF)"
   ]
  },
  {
   "cell_type": "code",
   "execution_count": 26,
   "id": "b4aa9795",
   "metadata": {},
   "outputs": [],
   "source": [
    "ppDF = ppModel.transform(testDF)"
   ]
  },
  {
   "cell_type": "code",
   "execution_count": 27,
   "id": "f499be48",
   "metadata": {},
   "outputs": [
    {
     "name": "stdout",
     "output_type": "stream",
     "text": [
      "+---------------+--------------------+-----+------------------+\n",
      "|      room_type|            features|price|        prediction|\n",
      "+---------------+--------------------+-----+------------------+\n",
      "|Entire home/apt|(98,[0,3,6,7,23,4...| 85.0| 59.47020680987754|\n",
      "|   Private room|(98,[0,3,6,7,23,4...| 45.0|26.087910531152602|\n",
      "|   Private room|(98,[0,3,6,7,23,4...| 70.0|30.622183194288482|\n",
      "|   Private room|(98,[0,3,6,7,13,4...|128.0|-92.16468818696768|\n",
      "|   Private room|(98,[0,3,6,7,13,4...|159.0| 94.25964596688505|\n",
      "+---------------+--------------------+-----+------------------+\n",
      "only showing top 5 rows\n",
      "\n"
     ]
    }
   ],
   "source": [
    "ppDF.select('room_type','features','price','prediction').show(5)"
   ]
  },
  {
   "cell_type": "code",
   "execution_count": 28,
   "id": "4a031e03",
   "metadata": {},
   "outputs": [
    {
     "data": {
      "text/plain": [
       "LinearRegressionModel: uid=LinearRegression_fe0777a528be, numFeatures=98"
      ]
     },
     "execution_count": 28,
     "metadata": {},
     "output_type": "execute_result"
    }
   ],
   "source": [
    "ppModel.stages[-1]"
   ]
  },
  {
   "cell_type": "code",
   "execution_count": 29,
   "id": "296da992",
   "metadata": {},
   "outputs": [
    {
     "data": {
      "text/plain": [
       "393.8279892942715"
      ]
     },
     "execution_count": 29,
     "metadata": {},
     "output_type": "execute_result"
    }
   ],
   "source": [
    "ppModel.stages[-1].intercept"
   ]
  },
  {
   "cell_type": "code",
   "execution_count": 30,
   "id": "25dea1aa",
   "metadata": {},
   "outputs": [
    {
     "data": {
      "text/plain": [
       "DenseVector([-10.3818, -1028.076, -1039.2248, -1023.8434, -1092.0643, -1038.6517, -5.9706, -0.0566, 50.5815, 34.0943, 4.9171, 2.8371, 44.8145, 23.4878, 13.8886, 54.7334, 31.2028, 16.5577, 2.6317, -28.9796, 8.8263, 31.887, 11.7916, -11.7544, 42.1266, 64.3939, -43.3159, -12.2148, 105.0213, 5.5051, 122.3288, 56.5261, -44.7502, 85.6137, 31.8574, 98.8253, 37.6499, 74.9841, 76.3703, 76.8176, 215.0816, 40.464, 56.0555, 2411.5549, 740.2634, -35.1491, 3.257, 31.535, -18.749, 5.0082, -14.2747, 2.7012, -33.1626, 37.9367, -68.7046, -97.6082, 2.8896, -21.1477, -8.8344, -5.576, 38.0388, -2.2063, 110.7228, -96.2194, -13.8328, -106.9182, -81.3161, 70.4443, 416.6028, 104.6285, 50.5914, 27.7728, 20.1806, 59.1793, 1.6611, -15.0608, -5.9146, -32.4626, -6.8911, -1.3097, -0.1906, 1.5349, -0.9362, 25.1337, 1.1127, -7.0245, 8.7914, -25.6791, -55.2794, -12.7712, -6.4162, 52.5129, 39.785, 53.6548, -10.354, -93.5267, -10.354, -10.354])"
      ]
     },
     "execution_count": 30,
     "metadata": {},
     "output_type": "execute_result"
    }
   ],
   "source": [
    "ppModel.stages[-1].coefficients"
   ]
  },
  {
   "cell_type": "code",
   "execution_count": 31,
   "id": "ac362e49",
   "metadata": {},
   "outputs": [],
   "source": [
    "df_index = stringIndex.fit(trainDF).transform(trainDF)"
   ]
  },
  {
   "cell_type": "code",
   "execution_count": 32,
   "id": "cef234fc",
   "metadata": {},
   "outputs": [
    {
     "name": "stdout",
     "output_type": "stream",
     "text": [
      "+---------------+--------------+-----------------+----------------------+\n",
      "|      room_type|room_typeIndex|host_is_superhost|host_is_superhostIndex|\n",
      "+---------------+--------------+-----------------+----------------------+\n",
      "|   Private room|           1.0|                f|                   0.0|\n",
      "|Entire home/apt|           0.0|                f|                   0.0|\n",
      "|Entire home/apt|           0.0|                f|                   0.0|\n",
      "|Entire home/apt|           0.0|                f|                   0.0|\n",
      "|Entire home/apt|           0.0|                f|                   0.0|\n",
      "+---------------+--------------+-----------------+----------------------+\n",
      "only showing top 5 rows\n",
      "\n"
     ]
    }
   ],
   "source": [
    "df_index.select('room_type','room_typeIndex','host_is_superhost','host_is_superhostIndex').show(5)"
   ]
  },
  {
   "cell_type": "code",
   "execution_count": 33,
   "id": "eeca4025",
   "metadata": {},
   "outputs": [],
   "source": [
    "encoder_df = oheEncoder.fit(df_index).transform(df_index)"
   ]
  },
  {
   "cell_type": "code",
   "execution_count": 34,
   "id": "1adcf970",
   "metadata": {},
   "outputs": [
    {
     "name": "stdout",
     "output_type": "stream",
     "text": [
      "+---------------+--------------+-------------+\n",
      "|      room_type|room_typeIndex| room_typeOHE|\n",
      "+---------------+--------------+-------------+\n",
      "|   Private room|           1.0|(2,[1],[1.0])|\n",
      "|Entire home/apt|           0.0|(2,[0],[1.0])|\n",
      "|Entire home/apt|           0.0|(2,[0],[1.0])|\n",
      "|Entire home/apt|           0.0|(2,[0],[1.0])|\n",
      "|Entire home/apt|           0.0|(2,[0],[1.0])|\n",
      "+---------------+--------------+-------------+\n",
      "only showing top 5 rows\n",
      "\n"
     ]
    }
   ],
   "source": [
    "encoder_df.select('room_type','room_typeIndex','room_typeOHE').show(5)"
   ]
  },
  {
   "cell_type": "code",
   "execution_count": 35,
   "id": "9b72c6cb",
   "metadata": {},
   "outputs": [],
   "source": [
    "final_df = assVect.transform(encoder_df)"
   ]
  },
  {
   "cell_type": "code",
   "execution_count": 36,
   "id": "82222c7a",
   "metadata": {},
   "outputs": [],
   "source": [
    "model = LinearRegression(featuresCol='features',labelCol='price',regParam=0.2)\n",
    "lr_model = model.fit(final_df)"
   ]
  },
  {
   "cell_type": "code",
   "execution_count": 37,
   "id": "913a10f9",
   "metadata": {},
   "outputs": [],
   "source": [
    "test_index = stringIndex.fit(testDF).transform(testDF)\n",
    "test_encoder = oheEncoder.fit(test_index).transform(test_index)\n",
    "test_final = assVect.transform(test_encoder)"
   ]
  },
  {
   "cell_type": "code",
   "execution_count": 38,
   "id": "2279981a",
   "metadata": {},
   "outputs": [],
   "source": [
    "pDF = lr_model.transform(test_final)"
   ]
  },
  {
   "cell_type": "code",
   "execution_count": 41,
   "id": "ffbb19b0",
   "metadata": {},
   "outputs": [
    {
     "data": {
      "text/plain": [
       "['host_is_superhost',\n",
       " 'cancellation_policy',\n",
       " 'instant_bookable',\n",
       " 'host_total_listings_count',\n",
       " 'neighbourhood_cleansed',\n",
       " 'latitude',\n",
       " 'longitude',\n",
       " 'property_type',\n",
       " 'room_type',\n",
       " 'accommodates',\n",
       " 'bathrooms',\n",
       " 'bedrooms',\n",
       " 'beds',\n",
       " 'bed_type',\n",
       " 'minimum_nights',\n",
       " 'number_of_reviews',\n",
       " 'review_scores_rating',\n",
       " 'review_scores_accuracy',\n",
       " 'review_scores_cleanliness',\n",
       " 'review_scores_checkin',\n",
       " 'review_scores_communication',\n",
       " 'review_scores_location',\n",
       " 'review_scores_value',\n",
       " 'price',\n",
       " 'bedrooms_na',\n",
       " 'bathrooms_na',\n",
       " 'beds_na',\n",
       " 'review_scores_rating_na',\n",
       " 'review_scores_accuracy_na',\n",
       " 'review_scores_cleanliness_na',\n",
       " 'review_scores_checkin_na',\n",
       " 'review_scores_communication_na',\n",
       " 'review_scores_location_na',\n",
       " 'review_scores_value_na',\n",
       " 'host_is_superhostIndex',\n",
       " 'cancellation_policyIndex',\n",
       " 'instant_bookableIndex',\n",
       " 'neighbourhood_cleansedIndex',\n",
       " 'property_typeIndex',\n",
       " 'room_typeIndex',\n",
       " 'bed_typeIndex',\n",
       " 'host_is_superhostOHE',\n",
       " 'cancellation_policyOHE',\n",
       " 'instant_bookableOHE',\n",
       " 'neighbourhood_cleansedOHE',\n",
       " 'property_typeOHE',\n",
       " 'room_typeOHE',\n",
       " 'bed_typeOHE',\n",
       " 'features',\n",
       " 'prediction']"
      ]
     },
     "execution_count": 41,
     "metadata": {},
     "output_type": "execute_result"
    }
   ],
   "source": [
    "pDF.columns"
   ]
  },
  {
   "cell_type": "code",
   "execution_count": 43,
   "id": "63360945",
   "metadata": {},
   "outputs": [],
   "source": [
    "pDF.createOrReplaceTempView('sf_airbnb')"
   ]
  },
  {
   "cell_type": "code",
   "execution_count": 48,
   "id": "965f9d6c",
   "metadata": {},
   "outputs": [
    {
     "name": "stdout",
     "output_type": "stream",
     "text": [
      "+---------+---------+-----------+\n",
      "|namespace|tableName|isTemporary|\n",
      "+---------+---------+-----------+\n",
      "|         |sf_airbnb|       true|\n",
      "+---------+---------+-----------+\n",
      "\n"
     ]
    }
   ],
   "source": [
    "spark.sql('show tables').show()"
   ]
  }
 ],
 "metadata": {
  "kernelspec": {
   "display_name": "Python 3 (ipykernel)",
   "language": "python",
   "name": "python3"
  },
  "language_info": {
   "codemirror_mode": {
    "name": "ipython",
    "version": 3
   },
   "file_extension": ".py",
   "mimetype": "text/x-python",
   "name": "python",
   "nbconvert_exporter": "python",
   "pygments_lexer": "ipython3",
   "version": "3.10.9"
  }
 },
 "nbformat": 4,
 "nbformat_minor": 5
}
